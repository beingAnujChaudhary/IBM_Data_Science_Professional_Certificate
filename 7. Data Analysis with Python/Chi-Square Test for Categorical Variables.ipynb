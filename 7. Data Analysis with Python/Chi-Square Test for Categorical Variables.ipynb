{
  "cells": [
    {
      "cell_type": "markdown",
      "source": [
        "\n",
        "---\n",
        "### Introduction\n",
        "The chi-square test is a statistical method used to determine if there is a significant association between two categorical variables. This test is widely used in various fields, including social sciences, marketing, and healthcare, to analyze survey data, experimental results, and observational studies.\n",
        "\n",
        "---\n",
        "### Concept\n",
        "The chi-square test is a non-parametric statistical method used to examine the association between two categorical variables. It evaluates whether the frequencies of observed outcomes significantly deviate from expected frequencies, assuming the variables are independent. The test is grounded in the chi-square distribution, which is applied to count data and helps in determining if any observed deviations could have arisen by random chance.\n",
        "\n",
        "---\n",
        "### Null Hypothesis and Alternative Hypothesis\n",
        "The chi-square test involves formulating two hypotheses:\n",
        "**Null Hypothesis ($H_0$)**\n",
        "($H_0$) - Assumes that there is no association between the categorical variables, implying that any observed differences are due to random chance.\n",
        "**Alternative Hypothesis ($H_1$)**\n",
        "($H_1$) - Assumes that there is a significant association between the variables, indicating that the observed differences are not due to chance alone.\n",
        "\n",
        "---\n",
        "### Formula\n",
        "The chi-square statistic is calculated using the formula:\n",
        "$$\\chi^2 = \\sum \\frac{(O_i - E_i)^2}{E_i}$$\n",
        "where\n",
        "$O_i$ is the observed frequency for category $i$.\n",
        "$E_i$ is the expected frequency for category $i$, calculated as:\n",
        "$$E_i = \\frac{(\\text{row total} \\times \\text{column total})}{\\text{grand total}}$$\n",
        "The sum is taken over all cells in the contingency table.\n",
        "The calculated chi-square statistic is then compared to a critical value from the chi-square distribution table. This table provides critical values for different degrees of freedom (df) and significance levels ($\\alpha$).\n",
        "The degrees of freedom for the test are calculated as:\n",
        "$$df = (r-1) \\times (c-1)$$\n",
        "where $r$ is the number of rows and $c$ is the number of columns in the table.\n",
        "\n",
        "---\n",
        "### Applications\n",
        "**Market Research:** Analyzing the association between customer demographics and product preferences.\n",
        "**Healthcare:** Studying the relationship between patient characteristics and disease incidence.\n",
        "**Social Sciences:** Investigating the link between social factors (e.g., education level) and behavioral outcomes (e.g., voting patterns).\n",
        "**Education:** Examining the connection between teaching methods and student performance.\n",
        "**Quality Control:** Assessing the association between manufacturing conditions and product defects.\n",
        "\n",
        "---\n",
        "### Practical Example - Weak Correlation\n",
        "Suppose a researcher wants to determine if there is an association between gender (male, female) and preference for a new product (like, dislike). The researcher surveys 100 people and records the following data:\n",
        "\n",
        "| Category | Like | Dislike | Total |\n",
        "| :------- | :--- | :------ | :---- |\n",
        "| Male     | 20   | 30      | 50    |\n",
        "| Female   | 25   | 25      | 50    |\n",
        "| Total    | 45   | 55      | 100   |\n",
        "\n",
        "#### Step 1: Calculate Expected Frequencies\n",
        "Using the formula for expected frequencies:\n",
        "$E_{\\text{Male,Like}} = \\frac{(50 \\times 45)}{100} = 22.5$\n",
        "$E_{\\text{Male,Dislike}} = \\frac{(50 \\times 55)}{100} = 27.5$\n",
        "$E_{\\text{Female,Like}} = \\frac{(50 \\times 45)}{100} = 22.5$\n",
        "$E_{\\text{Female,Dislike}} = \\frac{(50 \\times 55)}{100} = 27.5$\n",
        "\n",
        "#### Step 2: Compute Chi-Square Statistic\n",
        "$\\chi^2 = \\frac{(20-22.5)^2}{22.5} + \\frac{(30-27.5)^2}{27.5} + \\frac{(25-22.5)^2}{22.5} + \\frac{(25-27.5)^2}{27.5}$\n",
        "$\\chi^2 = \\frac{(-2.5)^2}{22.5} + \\frac{(2.5)^2}{27.5} + \\frac{(2.5)^2}{22.5} + \\frac{(-2.5)^2}{27.5}$\n",
        "$\\chi^2 = \\frac{6.25}{22.5} + \\frac{6.25}{27.5} + \\frac{6.25}{22.5} + \\frac{6.25}{27.5}$\n",
        "$\\chi^2 \\approx 0.277 + 0.227 + 0.277 + 0.227$\n",
        "$\\chi^2 \\approx 1.008$ (Note: slight rounding might occur if calculated manually step-by-step, Python will be more precise)\n",
        "\n",
        "#### Step 3: Determine Degrees of Freedom\n",
        "$df = (2-1) \\times (2-1) = 1 \\times 1 = 1$\n",
        "\n",
        "#### Step 4: Interpret the Result\n",
        "Using a chi-square distribution table, we compare the calculated chi-square value (1.008) with the critical value at one degree of freedom and a significance level (e.g., 0.05). The critical value, as determined from chi-square distribution tables, is approximately 3.841.\n",
        "Since $1.008 < 3.841$, we fail to reject the null hypothesis. Thus, there is no significant association between gender and product preference in this sample.\n",
        "\n",
        "**Python Implementation (Weak Correlation Example)**"
      ],
      "metadata": {
        "id": "wuSdzqP7XIRQ"
      }
    },
    {
      "cell_type": "code",
      "source": [
        "# CELL 1: Import necessary libraries\n",
        "import numpy as np\n",
        "from scipy.stats import chi2_contingency"
      ],
      "outputs": [],
      "execution_count": null,
      "metadata": {
        "id": "H2sq0hE3XIRS"
      }
    },
    {
      "cell_type": "code",
      "source": [
        "# CELL 2: Define the observed contingency table for gender and product preference\n",
        "# Rows: Gender (Male, Female)\n",
        "# Columns: Preference (Like, Dislike)\n",
        "observed_gender_product = np.array([[20, 30],  # Male: 20 Like, 30 Dislike\n",
        "                                      [25, 25]]) # Female: 25 Like, 25 Dislike\n",
        "\n",
        "print(\"Observed Frequencies (Gender vs. Product Preference):\")\n",
        "print(observed_gender_product)"
      ],
      "outputs": [],
      "execution_count": null,
      "metadata": {
        "id": "6Ue7DUxYXIRT"
      }
    },
    {
      "cell_type": "code",
      "source": [
        "# CELL 3: Perform the Chi-Square Test and print results\n",
        "# The chi2_contingency function returns:\n",
        "# 1. chi2_stat: The calculated chi-square statistic\n",
        "# 2. p_value: The p-value of the test\n",
        "# 3. dof: Degrees of freedom\n",
        "# 4. expected_freq: The array of expected frequencies under the null hypothesis\n",
        "chi2_stat, p_value, dof, expected_freq = chi2_contingency(observed_gender_product)\n",
        "\n",
        "print(f\"\\nChi-Square Statistic: {chi2_stat:.4f}\")\n",
        "print(f\"P-value: {p_value:.4f}\")\n",
        "print(f\"Degrees of Freedom: {dof}\")\n",
        "print(\"Expected Frequencies:\")\n",
        "print(expected_freq)\n",
        "\n",
        "# Interpretation\n",
        "alpha = 0.05\n",
        "print(f\"\\nSignificance level (alpha): {alpha}\")\n",
        "if p_value < alpha:\n",
        "    print(\"Result: Reject the null hypothesis (H0).\")\n",
        "    print(\"Conclusion: There is a statistically significant association between gender and product preference.\")\n",
        "else:\n",
        "    print(\"Result: Fail to reject the null hypothesis (H0).\")\n",
        "    print(\"Conclusion: There is NO statistically significant association between gender and product preference.\")"
      ],
      "outputs": [],
      "execution_count": null,
      "metadata": {
        "id": "y1Uf80yOXIRT"
      }
    },
    {
      "cell_type": "markdown",
      "source": [
        "---\n",
        "### Practical Example - Strong Association\n",
        "Consider a study investigating the relationship between smoking status (smoker, non-smoker) and the incidence of lung disease (disease, no disease). The researcher collects data from 200 individuals and records the following information:\n",
        "\n",
        "| Category   | Disease | No Disease | Total |\n",
        "| :--------- | :------ | :--------- | :---- |\n",
        "| Smoker     | 50      | 30         | 80    |\n",
        "| Non-Smoker | 20      | 100        | 120   |\n",
        "| Total      | 70      | 130        | 200   |\n",
        "\n",
        "#### Step 1: Calculate Expected Frequencies\n",
        "Using the formula for expected frequencies:\n",
        "$E_{\\text{Smoker,Disease}} = \\frac{(80 \\times 70)}{200} = 28$\n",
        "$E_{\\text{Smoker,No Disease}} = \\frac{(80 \\times 130)}{200} = 52$\n",
        "$E_{\\text{Non-Smoker,Disease}} = \\frac{(120 \\times 70)}{200} = 42$\n",
        "$E_{\\text{Non-Smoker,No Disease}} = \\frac{(120 \\times 130)}{200} = 78$\n",
        "\n",
        "#### Step 2: Compute Chi-Square Statistic\n",
        "$\\chi^2 = \\frac{(50-28)^2}{28} + \\frac{(30-52)^2}{52} + \\frac{(20-42)^2}{42} + \\frac{(100-78)^2}{78}$\n",
        "$\\chi^2 = \\frac{(22)^2}{28} + \\frac{(-22)^2}{52} + \\frac{(-22)^2}{42} + \\frac{(22)^2}{78}$\n",
        "$\\chi^2 = \\frac{484}{28} + \\frac{484}{52} + \\frac{484}{42} + \\frac{484}{78}$\n",
        "$\\chi^2 \\approx 17.29 + 9.31 + 11.52 + 6.21$\n",
        "$\\chi^2 \\approx 44.33$\n",
        "\n",
        "#### Step 3: Determine Degrees of Freedom\n",
        "$df = (2-1) \\times (2-1) = 1$\n",
        "\n",
        "#### Step 4: Interpret the Result\n",
        "Using a chi-square distribution table, we compare the calculated chi-square value (44.33) with the critical value at one degree of freedom and a significance level (e.g., 0.05), approximately 3.841. Since $44.33 > 3.841$, we reject the null hypothesis. This indicates a significant association between smoking status and the incidence of lung disease in this sample.\n",
        "\n",
        "**Python Implementation (Strong Association Example)**"
      ],
      "metadata": {
        "id": "T-TYTM_zXIRU"
      }
    },
    {
      "cell_type": "code",
      "source": [
        "# CELL 4: Define the observed contingency table for smoking and lung disease\n",
        "# Rows: Status (Smoker, Non-Smoker)\n",
        "# Columns: Lung Disease (Disease, No Disease)\n",
        "observed_smoking_disease = np.array([[50, 30],  # Smoker: 50 Disease, 30 No Disease\n",
        "                                       [20, 100]]) # Non-Smoker: 20 Disease, 100 No Disease\n",
        "\n",
        "print(\"Observed Frequencies (Smoking vs. Lung Disease):\")\n",
        "print(observed_smoking_disease)"
      ],
      "outputs": [],
      "execution_count": null,
      "metadata": {
        "id": "CkyU7qXOXIRU"
      }
    },
    {
      "cell_type": "code",
      "source": [
        "# CELL 5: Perform the Chi-Square Test and print results\n",
        "chi2_stat_sd, p_value_sd, dof_sd, expected_freq_sd = chi2_contingency(observed_smoking_disease)\n",
        "\n",
        "print(f\"\\nChi-Square Statistic: {chi2_stat_sd:.4f}\")\n",
        "print(f\"P-value: {p_value_sd:.4f}\") # Expected to be very small\n",
        "print(f\"Degrees of Freedom: {dof_sd}\")\n",
        "print(\"Expected Frequencies:\")\n",
        "print(expected_freq_sd)\n",
        "\n",
        "# Interpretation\n",
        "alpha = 0.05\n",
        "print(f\"\\nSignificance level (alpha): {alpha}\")\n",
        "if p_value_sd < alpha:\n",
        "    print(\"Result: Reject the null hypothesis (H0).\")\n",
        "    print(\"Conclusion: There is a statistically significant association between smoking status and lung disease.\")\n",
        "else:\n",
        "    print(\"Result: Fail to reject the null hypothesis (H0).\")\n",
        "    print(\"Conclusion: There is NO statistically significant association between smoking status and lung disease.\")"
      ],
      "outputs": [],
      "execution_count": null,
      "metadata": {
        "id": "-eZxqU9jXIRU"
      }
    },
    {
      "cell_type": "markdown",
      "source": [
        "---\n",
        "### Additional Python Example: Larger Contingency Table (e.g., 3x3)\n",
        "\n",
        "Let's say we are examining the association between `Education Level` (High School, Bachelor's, Master's/PhD) and `Preferred News Source` (Online, TV, Print)."
      ],
      "metadata": {
        "id": "LrKtZXc5XIRU"
      }
    },
    {
      "cell_type": "code",
      "source": [
        "# CELL 6: Define a larger contingency table (3x3)\n",
        "# Rows: Education Level (HS, Bachelors, Masters/PhD)\n",
        "# Columns: News Source (Online, TV, Print)\n",
        "observed_education_news = np.array([\n",
        "    [150, 60, 30], # High School\n",
        "    [200, 40, 20], # Bachelor's\n",
        "    [100, 20, 15]  # Master's/PhD\n",
        "])\n",
        "\n",
        "print(\"Observed Frequencies (Education vs. News Source):\")\n",
        "print(observed_education_news)"
      ],
      "outputs": [],
      "execution_count": null,
      "metadata": {
        "id": "GOPimIpLXIRU"
      }
    },
    {
      "cell_type": "code",
      "source": [
        "# CELL 7: Perform Chi-Square test on the 3x3 table\n",
        "chi2_stat_en, p_value_en, dof_en, expected_freq_en = chi2_contingency(observed_education_news)\n",
        "\n",
        "print(f\"\\nChi-Square Statistic: {chi2_stat_en:.4f}\")\n",
        "print(f\"P-value: {p_value_en:.4f}\")\n",
        "print(f\"Degrees of Freedom: {dof_en}\") # Should be (3-1)*(3-1) = 4\n",
        "print(\"Expected Frequencies:\")\n",
        "print(expected_freq_en)\n",
        "\n",
        "# Interpretation\n",
        "alpha = 0.05\n",
        "print(f\"\\nSignificance level (alpha): {alpha}\")\n",
        "if p_value_en < alpha:\n",
        "    print(\"Result: Reject the null hypothesis (H0).\")\n",
        "    print(\"Conclusion: There is a statistically significant association between education level and preferred news source.\")\n",
        "else:\n",
        "    print(\"Result: Fail to reject the null hypothesis (H0).\")\n",
        "    print(\"Conclusion: There is NO statistically significant association between education level and preferred news source.\")"
      ],
      "outputs": [],
      "execution_count": null,
      "metadata": {
        "id": "41DqUrx0XIRV"
      }
    },
    {
      "cell_type": "markdown",
      "source": [
        "---\n",
        "### Python Example: Creating Contingency Table from Raw Data using Pandas\n",
        "\n",
        "Often, you have raw data rather than a pre-summarized contingency table. Pandas `crosstab` function is excellent for this."
      ],
      "metadata": {
        "id": "O5Sk65GqXIRV"
      }
    },
    {
      "cell_type": "code",
      "source": [
        "# CELL 8: Import pandas\n",
        "import pandas as pd"
      ],
      "outputs": [],
      "execution_count": null,
      "metadata": {
        "id": "DJynriE7XIRV"
      }
    },
    {
      "cell_type": "code",
      "source": [
        "# CELL 9: Create sample raw data\n",
        "# Imagine this data comes from a survey\n",
        "data = {\n",
        "    'Region': ['North', 'South', 'East', 'West', 'North', 'South', 'East', 'West', 'North', 'South', 'East', 'West', 'North', 'South', 'East', 'North', 'South', 'West'],\n",
        "    'Product_Choice': ['A', 'B', 'A', 'C', 'C', 'B', 'A', 'A', 'B', 'C', 'C', 'A', 'A', 'B', 'B', 'A', 'C', 'C']\n",
        "}\n",
        "df_survey = pd.DataFrame(data)\n",
        "\n",
        "print(\"Sample Raw Survey Data:\")\n",
        "print(df_survey.head())"
      ],
      "outputs": [],
      "execution_count": null,
      "metadata": {
        "id": "j7zlPqV1XIRV"
      }
    },
    {
      "cell_type": "code",
      "source": [
        "# CELL 10: Create a contingency table (cross-tabulation) from the raw data\n",
        "contingency_table_survey = pd.crosstab(df_survey['Region'], df_survey['Product_Choice'])\n",
        "\n",
        "print(\"\\nContingency Table (Region vs. Product Choice):\")\n",
        "print(contingency_table_survey)"
      ],
      "outputs": [],
      "execution_count": null,
      "metadata": {
        "id": "PBA6xeocXIRV"
      }
    },
    {
      "cell_type": "code",
      "source": [
        "# CELL 11: Perform Chi-Square test on the created contingency table\n",
        "chi2_stat_survey, p_value_survey, dof_survey, expected_freq_survey = chi2_contingency(contingency_table_survey)\n",
        "\n",
        "print(f\"\\nChi-Square Statistic: {chi2_stat_survey:.4f}\")\n",
        "print(f\"P-value: {p_value_survey:.4f}\")\n",
        "print(f\"Degrees of Freedom: {dof_survey}\")\n",
        "print(\"Expected Frequencies:\")\n",
        "print(expected_freq_survey)\n",
        "\n",
        "# Interpretation\n",
        "alpha = 0.05\n",
        "print(f\"\\nSignificance level (alpha): {alpha}\")\n",
        "if p_value_survey < alpha:\n",
        "    print(\"Result: Reject the null hypothesis (H0).\")\n",
        "    print(\"Conclusion: There is a statistically significant association between region and product choice.\")\n",
        "else:\n",
        "    print(\"Result: Fail to reject the null hypothesis (H0).\")\n",
        "    print(\"Conclusion: There is NO statistically significant association between region and product choice.\")"
      ],
      "outputs": [],
      "execution_count": null,
      "metadata": {
        "id": "lu-KEFqHXIRV"
      }
    },
    {
      "cell_type": "markdown",
      "source": [
        "---\n",
        "### Assumptions of the Chi-Square Test of Independence\n",
        "1.  **Two Categorical Variables:** The data should consist of counts for two categorical variables.\n",
        "2.  **Independence of Observations:** Each observation should be independent of all other observations (e.g., one participant's response does not affect another's).\n",
        "3.  **Sufficiently Large Expected Frequencies:** For the chi-square approximation to be valid, the expected frequencies in each cell of the contingency table should not be too small. A common rule of thumb is:\n",
        "    * No cell should have an expected frequency less than 1.\n",
        "    * At least 80% of the cells should have an expected frequency of 5 or more.\n",
        "    If these conditions are not met, especially for 2x2 tables, Fisher's Exact Test might be a better alternative. For larger tables, you might consider combining categories if it's theoretically sound.\n",
        "\n",
        "---\n",
        "### Interpreting the p-value and Chi-Square Statistic\n",
        "* The **Chi-Square Statistic ($\\chi^2$)** measures the overall difference between observed and expected frequencies. A larger value generally indicates a greater discrepancy.\n",
        "* The **p-value** is the probability of observing the data (or more extreme data) if the null hypothesis (no association) were true.\n",
        "    * If **p-value < $\\alpha$** (your chosen significance level, e.g., 0.05): Reject $H_0$. There is a statistically significant association between the variables.\n",
        "    * If **p-value $\\ge \\alpha$**: Fail to reject $H_0$. There is not enough evidence to conclude a significant association between the variables.\n",
        "\n",
        "---\n",
        "### Strength of Association (Brief Mention)\n",
        "While the chi-square test tells you if an association is statistically significant, it doesn't tell you how strong that association is. For 2x2 tables, the **Phi coefficient ($\\phi$)** can be used. For larger tables, **Cramer's V** is a common measure of association strength. Both typically range from 0 (no association) to 1 (perfect association)."
      ],
      "metadata": {
        "id": "leHn_WixXIRV"
      }
    },
    {
      "cell_type": "code",
      "source": [
        "# CELL 12: Optional - Calculate Cramer's V for the smoking and lung disease example (2x2 table)\n",
        "# Cramer's V formula: sqrt(chi2_stat / (n * (min(k, r) - 1)))\n",
        "# where n is total sample size, k is number of columns, r is number of rows\n",
        "\n",
        "n_sd = observed_smoking_disease.sum()\n",
        "phi_sd = np.sqrt(chi2_stat_sd / n_sd) # For 2x2 table, Cramer's V simplifies to Phi which is sqrt(chi2/n)\n",
        "# More general Cramer's V\n",
        "min_dim_sd = min(observed_smoking_disease.shape) -1\n",
        "if min_dim_sd == 0: # Avoid division by zero if one dimension is 1 (though chi2_contingency handles this)\n",
        "    cramers_v_sd = np.nan\n",
        "else:\n",
        "    cramers_v_sd = np.sqrt(chi2_stat_sd / (n_sd * min_dim_sd) )\n",
        "\n",
        "\n",
        "print(f\"\\nFor Smoking vs. Lung Disease example:\")\n",
        "print(f\"Total observations (n): {n_sd}\")\n",
        "print(f\"Phi coefficient (approx Cramer's V for 2x2): {phi_sd:.4f}\")\n",
        "print(f\"Cramer's V: {cramers_v_sd:.4f}\") # Should be same as phi_sd for 2x2\n",
        "# Interpretation of Cramer's V (general guidelines, context-dependent):\n",
        "# ~0.1: weak association\n",
        "# ~0.3: moderate association\n",
        "# ~0.5 or higher: strong association"
      ],
      "outputs": [],
      "execution_count": null,
      "metadata": {
        "id": "9ShphA6jXIRV"
      }
    },
    {
      "cell_type": "markdown",
      "source": [
        "---\n",
        "### Conclusion\n",
        "The chi-square test is a powerful tool for analyzing the relationship between categorical variables. By comparing observed and expected frequencies, researchers can determine if there is a statistically significant association, providing valuable insights in various fields of study.\n",
        "\n",
        "---\n",
        "### Practice Questions (50)\n",
        "\n",
        "**Conceptual Understanding & Definitions**\n",
        "\n",
        "1.  What is the primary purpose of a Chi-Square test of independence?\n",
        "2.  Is the Chi-Square test a parametric or non-parametric test? Explain what that means.\n",
        "3.  What type of variables is the Chi-Square test designed for?\n",
        "4.  Define \"observed frequency\" in the context of a Chi-Square test.\n",
        "5.  Define \"expected frequency\" in the context of a Chi-Square test.\n",
        "6.  What does the Chi-Square distribution describe?\n",
        "7.  What does it mean if two categorical variables are \"independent\"?\n",
        "8.  What does it mean if two categorical variables are \"associated\"?\n",
        "\n",
        "**Hypotheses**\n",
        "\n",
        "9.  State the typical null hypothesis ($H_0$) for a Chi-Square test of independence.\n",
        "10. State the typical alternative hypothesis ($H_1$) for a Chi-Square test of independence.\n",
        "11. If a Chi-Square test yields a p-value of 0.03, and $\\alpha = 0.05$, what decision do you make regarding the null hypothesis?\n",
        "12. A researcher wants to test if there's an association between car color preference and buyer's gender. Formulate the $H_0$ and $H_1$.\n",
        "\n",
        "**Formula & Calculations**\n",
        "\n",
        "13. Write down the formula for the Chi-Square statistic ($\\chi^2$).\n",
        "14. Explain each component of the Chi-Square statistic formula ($O_i$, $E_i$).\n",
        "15. Write down the formula for calculating the expected frequency ($E_i$) for a cell in a contingency table.\n",
        "16. Write down the formula for calculating the degrees of freedom (df) for a Chi-Square test of independence.\n",
        "17. If a contingency table has 3 rows and 4 columns, what are the degrees of freedom for the Chi-Square test?\n",
        "18. If a contingency table has 2 rows and 2 columns, what are the degrees of freedom?\n",
        "19. Why is $(O_i - E_i)$ squared in the Chi-Square formula?\n",
        "20. What does a larger Chi-Square statistic generally indicate?\n",
        "\n",
        "**Interpreting Results (p-value, $\\chi^2$ statistic)**\n",
        "\n",
        "21. What is a p-value in the context of a Chi-Square test?\n",
        "22. If the p-value is 0.25 and $\\alpha = 0.05$, what is your conclusion about the association between the variables?\n",
        "23. If the calculated $\\chi^2$ statistic is 15.6 and the critical $\\chi^2$ value (for a given df and $\\alpha$) is 7.81, what is your conclusion?\n",
        "24. Does a statistically significant Chi-Square test result tell you about the strength of the association? Why or why not?\n",
        "25. What does \"failing to reject the null hypothesis\" mean in practical terms?\n",
        "26. What does \"rejecting the null hypothesis\" mean in practical terms?\n",
        "\n",
        "**Assumptions**\n",
        "\n",
        "27. List three key assumptions for the Chi-Square test of independence.\n",
        "28. What is the common rule of thumb regarding expected cell frequencies for a Chi-Square test?\n",
        "29. What might be an alternative test if the expected cell frequency assumption is violated, especially in a 2x2 table?\n",
        "30. Why is the \"independence of observations\" assumption important?\n",
        "\n",
        "**Python Implementation (SciPy & Pandas)**\n",
        "\n",
        "31. Which function from the `scipy.stats` module is commonly used to perform a Chi-Square test of independence?\n",
        "32. What are the four main values returned by `scipy.stats.chi2_contingency`?\n",
        "33. How can you create a contingency table from raw categorical data in two Pandas Series (`series1`, `series2`)?\n",
        "34. If `chi2_contingency` returns a p-value of `0.001`, what does this suggest about the association between the variables?\n",
        "35. What data structure is typically passed as input to `chi2_contingency` (e.g., a NumPy array or Pandas DataFrame representing what)?\n",
        "\n",
        "**Application & Scenarios**\n",
        "\n",
        "36. A survey asks 200 people about their preferred vacation type (Beach, Mountains, City) and their income level (Low, Medium, High). What statistical test could be used to see if these are related?\n",
        "37. For the scenario in Q36, what would be the null hypothesis?\n",
        "38. If the Chi-Square test for Q36 results in a p-value of 0.02 (with $\\alpha = 0.05$), what is the conclusion?\n",
        "39. A company tests two different website designs (Design A, Design B) and records how many users click a \"Sign Up\" button for each design. How would you set up the contingency table?\n",
        "40. If the Chi-Square test for Q39 is significant, what does it imply about the website designs?\n",
        "41. A teacher wants to know if the final grade (Pass/Fail) is associated with attendance (Regular/Irregular). What are the variables and their categories?\n",
        "42. If a Chi-Square test shows no significant association between study method and exam scores, does this prove that study method has no effect at all? Explain.\n",
        "\n",
        "**True/False & Fill-in-the-Blanks**\n",
        "\n",
        "43. True or False: A p-value of 0.60 means there is a strong association between the variables.\n",
        "44. True or False: The Chi-Square test can be used to compare the means of two groups.\n",
        "45. The Chi-Square statistic cannot be \\_\\_\\_\\_\\_\\_\\_\\_\\_\\_ (negative/positive/zero).\n",
        "46. Degrees of freedom for a contingency table with $r$ rows and $c$ columns is \\_\\_\\_\\_\\_\\_\\_\\_\\_\\_.\n",
        "47. If observed frequencies are very close to expected frequencies, the Chi-Square statistic will be \\_\\_\\_\\_\\_\\_\\_\\_\\_\\_ (small/large).\n",
        "48. True or False: Cramer's V is a measure of the statistical significance of an association.\n",
        "49. The significance level, $\\alpha$, represents the probability of making a \\_\\_\\_\\_\\_\\_\\_\\_\\_\\_ error.\n",
        "50. If the expected frequency in a cell is 0.5, this violates an assumption of the \\_\\_\\_\\_\\_\\_\\_\\_\\_\\_ test."
      ],
      "metadata": {
        "id": "j5BxHTjkXIRW"
      }
    }
  ],
  "metadata": {
    "colab": {
      "provenance": []
    },
    "kernelspec": {
      "display_name": "Python 3",
      "name": "python3"
    }
  },
  "nbformat": 4,
  "nbformat_minor": 0
}
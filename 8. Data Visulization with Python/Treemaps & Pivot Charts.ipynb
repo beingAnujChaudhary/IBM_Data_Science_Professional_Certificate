{
  "cells": [
    {
      "cell_type": "markdown",
      "source": [
        "Okay, I will break down the provided text on Treemaps and Pivot Charts, add runnable Python code examples for Google Colab (using separate markdown and code cells), and then provide 50 practice questions.\n",
        "\n",
        "---\n",
        "### Understanding Treemaps and Pivot Charts\n",
        "\n",
        "---\n",
        "### Treemaps\n",
        "\n",
        "Treemaps are a form of data visualization that displays hierarchical data using nested rectangles. Each branch of the hierarchy is given a rectangle, which is then tiled with smaller rectangles representing sub-branches. Treemaps are particularly useful for visualizing large datasets where the hierarchical structure is crucial, offering an intuitive and space-efficient way to display data.\n",
        "\n",
        "#### Applications of Treemaps\n",
        "Treemaps are employed across various domains due to their ability to effectively communicate complex hierarchical data. Some common applications include:\n",
        "* **Business Analytics**: Visualizing the composition of sales by product categories and subcategories.\n",
        "* **Finance**: Displaying the performance of stock portfolios, sectors, and industries.\n",
        "* **IT and Network Management**: Representing file systems or network usage, showing the distribution of files and folders.\n",
        "* **Bioinformatics**: Displaying hierarchical biological data, such as taxonomies or genomic structures.\n",
        "* **Website Analytics**: Showing the structure of website traffic, with rectangles representing web pages and their size indicating the volume of visits.\n",
        "\n",
        "#### Importance in Data Visualization\n",
        "Treemaps are important in data visualization for several reasons:\n",
        "* **Space Efficiency**: Treemaps make efficient use of space, allowing large datasets to be visualized within a limited area.\n",
        "* **Hierarchy Representation**: They provide a clear representation of hierarchical data, showing both the structure and the quantitative relationship between elements.\n",
        "* **Comparative Analysis**: Treemaps make it easy to compare the sizes of different elements at various levels of the hierarchy.\n",
        "* **Immediate Insight**: The color and size of the rectangles can quickly convey important information, making it easier for users to spot patterns and outliers.\n",
        "\n",
        "#### Syntax for Generating Treemap\n",
        "We can generate Treemaps using the Plotly library in Python.\n",
        "\n",
        "**Markdown Cell for Setup:**\n",
        "```markdown\n",
        "First, ensure you have the necessary libraries installed. If you are using Google Colab, Plotly is often pre-installed. If not, you can run the following:\n",
        "```\n",
        "\n",
        "**Code Cell 1: Install Libraries (if needed)**"
      ],
      "metadata": {
        "id": "gsyU6ZYUMCtG"
      }
    },
    {
      "cell_type": "code",
      "source": [
        "# This cell is for installation if you are not in an environment where these are pre-installed.\n",
        "# In Google Colab, pandas is pre-installed, and plotly usually is too.\n",
        "# !pip install plotly pandas"
      ],
      "outputs": [],
      "execution_count": null,
      "metadata": {
        "id": "28IJ6OGqMCtH"
      }
    },
    {
      "cell_type": "markdown",
      "source": [
        "**Markdown Cell for Imports:**\n",
        "```markdown\n",
        "Import the required libraries: Pandas for data manipulation and Plotly Express for creating the treemap.\n",
        "```\n",
        "\n",
        "**Code Cell 2: Import Libraries**"
      ],
      "metadata": {
        "id": "OxqPk7_PMCtI"
      }
    },
    {
      "cell_type": "code",
      "source": [
        "import pandas as pd\n",
        "import plotly.express as px"
      ],
      "outputs": [],
      "execution_count": null,
      "metadata": {
        "id": "V9vCKuiPMCtJ"
      }
    },
    {
      "cell_type": "markdown",
      "source": [
        "**Markdown Cell for Data Loading:**\n",
        "```markdown\n",
        "Load or create your data. The data should have columns representing the different levels of the hierarchy and a column for the values that determine the size of the rectangles.\n",
        "```\n",
        "\n",
        "**Code Cell 3: Load Data (Sample)**"
      ],
      "metadata": {
        "id": "D-9sXPX5MCtJ"
      }
    },
    {
      "cell_type": "code",
      "source": [
        "# Sample dataset\n",
        "data_treemap_generic = {\n",
        "    'Category': ['Category A', 'Category A', 'Category B', 'Category B', 'Category C', 'Category A'],\n",
        "    'Subcategory': ['SubA1', 'SubA2', 'SubB1', 'SubB2', 'SubC1', 'SubA1'], # Note: SubA1 appears twice in Category A\n",
        "    'Product': ['Prod1', 'Prod2', 'Prod3', 'Prod4', 'Prod5', 'Prod6'],\n",
        "    'Value': [10, 20, 15, 25, 30, 5] # Prod6 is under Category A, SubA1\n",
        "}\n",
        "df_treemap_generic = pd.DataFrame(data_treemap_generic)\n",
        "\n",
        "print(\"Sample Generic Data for Treemap:\")\n",
        "print(df_treemap_generic)"
      ],
      "outputs": [],
      "execution_count": null,
      "metadata": {
        "id": "iKm5myr3MCtJ"
      }
    },
    {
      "cell_type": "markdown",
      "source": [
        "**Markdown Cell for Treemap Creation:**\n",
        "```markdown\n",
        "Create the treemap using `px.treemap()`.\n",
        "-   `df`: The Pandas DataFrame containing the data.\n",
        "-   `path`: A list of column names that define the hierarchy. The order in the list determines the levels. `px.Constant(\"all\")` can be used to create a root node if your data doesn't have one common parent for all top-level categories.\n",
        "-   `values`: The column name whose values determine the size of each rectangle.\n",
        "-   `title`: The title of the treemap.\n",
        "-   `color`: (Optional) A column name whose values can be used to color the rectangles.\n",
        "-   `color_continuous_scale`: (Optional) Colormap to use if `color` is a continuous variable.\n",
        "```\n",
        "\n",
        "**Code Cell 4: Create Treemap (Generic Example)**"
      ],
      "metadata": {
        "id": "1EHuJPEEMCtJ"
      }
    },
    {
      "cell_type": "code",
      "source": [
        "fig_generic = px.treemap(df_treemap_generic,\n",
        "                         path=[px.Constant(\"All Products\"), 'Category', 'Subcategory', 'Product'], # Defines hierarchical structure, px.Constant adds a root\n",
        "                         values='Value',  # Size of each rectangle\n",
        "                         title='Generic Treemap Example (All Products -> Category -> Subcategory -> Product)',\n",
        "                         color='Value', # Optional: color rectangles by their value\n",
        "                         color_continuous_scale='viridis' # Optional: specify color scale\n",
        "                        )\n",
        "# Update layout for better readability if needed\n",
        "fig_generic.update_layout(margin = dict(t=50, l=25, r=25, b=25))"
      ],
      "outputs": [],
      "execution_count": null,
      "metadata": {
        "id": "M0w9Zp-fMCtK"
      }
    },
    {
      "cell_type": "markdown",
      "source": [
        "**Markdown Cell for Display:**\n",
        "```markdown\n",
        "Display the treemap. In environments like Jupyter Notebook or Google Colab, `fig.show()` will render the interactive plot.\n",
        "```\n",
        "\n",
        "**Code Cell 5: Show Treemap (Generic Example)**"
      ],
      "metadata": {
        "id": "wz5sJTnJMCtK"
      }
    },
    {
      "cell_type": "code",
      "source": [
        "fig_generic.show()"
      ],
      "outputs": [],
      "execution_count": null,
      "metadata": {
        "id": "P2HjIfPWMCtK"
      }
    },
    {
      "cell_type": "markdown",
      "source": [
        "#### Practical Example: Visualizing Sales Data\n",
        "Let's use Plotly Express to visualize the sales data example.\n",
        "\n",
        "**Markdown Cell for Sales Data:**\n",
        "```markdown\n",
        "Assume we have the following hierarchical sales data:\n",
        "- Electronics\n",
        "    - Laptops: 120,000\n",
        "    - Smartphones: 80,000\n",
        "    - Tablets: 30,000\n",
        "- Furniture\n",
        "    - Chairs: 50,000\n",
        "    - Tables: 40,000\n",
        "    - Sofas: 20,000\n",
        "- Clothing\n",
        "    - Men: 70,000\n",
        "    - Women: 90,000\n",
        "    - Kids: 40,000\n",
        "```\n",
        "\n",
        "**Code Cell 6: Code to Generate Sales Data Treemap**"
      ],
      "metadata": {
        "id": "QLVdPGagMCtK"
      }
    },
    {
      "cell_type": "code",
      "source": [
        "# Sales data (already provided in the prompt, using it here)\n",
        "data_sales = {\n",
        "    'Category': ['Electronics', 'Electronics', 'Electronics',\n",
        "                 'Furniture', 'Furniture', 'Furniture',\n",
        "                 'Clothing', 'Clothing', 'Clothing'],\n",
        "    'Subcategory': ['Laptops', 'Smartphones', 'Tablets',\n",
        "                    'Chairs', 'Tables', 'Sofas',\n",
        "                    'Men', 'Women', 'Kids'],\n",
        "    'Sales': [120000, 80000, 30000,\n",
        "              50000, 40000, 20000,\n",
        "              70000, 90000, 40000]\n",
        "}\n",
        "df_sales = pd.DataFrame(data_sales)\n",
        "print(\"Sales Data for Treemap:\")\n",
        "print(df_sales)\n",
        "\n",
        "# Creating the treemap for sales data\n",
        "fig_sales = px.treemap(\n",
        "    df_sales,\n",
        "    path=[px.Constant(\"Total Sales\"), 'Category', 'Subcategory'], # Adding a root node for clarity\n",
        "    values='Sales',\n",
        "    title='Sales Data Treemap (Total Sales -> Category -> Subcategory)',\n",
        "    color='Sales', # Color by sales value\n",
        "    color_continuous_scale='RdBu' # Example of a different color scale\n",
        ")\n",
        "fig_sales.update_traces(textinfo=\"label+value+percent parent+percent root\") # Show more info on hover/text\n",
        "fig_sales.update_layout(margin = dict(t=50, l=25, r=25, b=25))\n",
        "fig_sales.show()"
      ],
      "outputs": [],
      "execution_count": null,
      "metadata": {
        "id": "tbBCZY6OMCtL"
      }
    },
    {
      "cell_type": "markdown",
      "source": [
        "#### Output\n",
        "The output will be an interactive treemap visualization where you can see rectangles representing 'Category', and within each, smaller rectangles for 'Subcategory'. The size of each rectangle corresponds to its 'Sales' value. Hovering over rectangles typically shows more details.\n",
        "\n",
        "#### Conclusion (Treemaps)\n",
        "Treemaps are a powerful tool for visualizing hierarchical data, offering an efficient and intuitive way to compare elements within a hierarchy. Their applications are diverse, ranging from business analytics to bioinformatics. By following the provided code, you can generate treemaps to visualize your own hierarchical datasets, making it easier to gain insights and communicate information effectively.\n",
        "\n",
        "---\n",
        "### Pivot Charts\n",
        "\n",
        "**Introduction**\n",
        "Pivot charts are a powerful tool used for data visualization and analysis. They allow users to dynamically summarize and explore large datasets, revealing insights and trends that might not be immediately obvious. Pivot charts are widely used in business intelligence, finance, marketing, and various other fields where data analysis is crucial.\n",
        "\n",
        "#### Applications of Pivot Charts\n",
        "* **Business Intelligence**: Pivot charts help in summarizing complex business data, making it easier for stakeholders to make informed decisions.\n",
        "* **Finance**: Analysts use pivot charts to visualize financial data, track performance metrics, and forecast trends.\n",
        "* **Marketing**: Marketers leverage pivot charts to analyze campaign performance, customer demographics, and sales trends.\n",
        "* **Operations**: Operational managers use pivot charts to monitor supply chain performance, inventory levels, and process efficiencies.\n",
        "* **Healthcare**: Pivot charts assist in visualizing patient data, treatment outcomes, and operational efficiency in healthcare settings.\n",
        "\n",
        "#### Importance in Data Visualization\n",
        "* **Data Summarization**: Quickly summarizes large datasets, making them more manageable and understandable.\n",
        "* **Dynamic Analysis**: Allows users to interactively explore data by filtering, sorting, and drilling down into specific areas of interest.\n",
        "* **Trend Identification**: Helps in identifying patterns and trends that can inform strategic decision-making.\n",
        "* **Efficiency**: Enhances productivity by providing a quick way to visualize and interpret data without extensive manual processing.\n",
        "* **Presentation**: Facilitates the creation of professional and informative reports that can be easily shared with stakeholders.\n",
        "\n",
        "#### Sample (Conceptual Pivot Table)\n",
        "Consider a sample data given below. This data is assumed to have a 100 entries.\n",
        "`Item Category Subcategory Value`\n",
        "`PBY62 SCY86`\n",
        "`QAX98 PAY45`\n",
        "`SCX35 ...`\n",
        "`PBX37 RBY26`\n",
        "`SAY33 QAY43`\n",
        "`PAY15`\n",
        "Treating the column `Item` as the index, i.e., the row component, and `Category` and `Subcategory` as columns, i.e., the column components, with `Value` acting as the aggregated entity, the pivot graph can be created, summarizing the data as shown below.\n",
        "*(Note: The text describes a pivot graph setup, but doesn't show the graph itself. A pivot chart is essentially a chart plotted from a pivot table.)*\n",
        "\n",
        "#### Syntax for Generating Pivot Charts in Python\n",
        "Python, with libraries such as Pandas and Matplotlib, provides robust capabilities for creating pivot charts. Below is a step-by-step guide to generating pivot charts using Python.\n",
        "\n",
        "**Markdown Cell for Setup (Pivot Charts):**\n",
        "```markdown\n",
        "Ensure you have Pandas and Matplotlib installed. These are standard in Google Colab.\n",
        "```\n",
        "**Code Cell 7: Install Libraries for Pivot Chart (if needed)**"
      ],
      "metadata": {
        "id": "QmOQQD-eMCtL"
      }
    },
    {
      "cell_type": "code",
      "source": [
        "# This cell is for installation if you are not in an environment where these are pre-installed.\n",
        "# In Google Colab, pandas and matplotlib are pre-installed.\n",
        "# !pip install pandas matplotlib numpy"
      ],
      "outputs": [],
      "execution_count": null,
      "metadata": {
        "id": "pQVUcW6vMCtL"
      }
    },
    {
      "cell_type": "markdown",
      "source": [
        "**Markdown Cell for Imports (Pivot Charts):**\n",
        "```markdown\n",
        "Import Pandas for data manipulation and creating pivot tables, and Matplotlib for plotting the chart. NumPy is also often useful.\n",
        "```\n",
        "**Code Cell 8: Import Libraries for Pivot Chart**"
      ],
      "metadata": {
        "id": "U9W6aZ2TMCtL"
      }
    },
    {
      "cell_type": "code",
      "source": [
        "import pandas as pd\n",
        "import matplotlib.pyplot as plt\n",
        "import numpy as np # Often used for aggfunc like np.sum, np.mean"
      ],
      "outputs": [],
      "execution_count": null,
      "metadata": {
        "id": "VhxPi1vmMCtL"
      }
    },
    {
      "cell_type": "markdown",
      "source": [
        "**Markdown Cell for Data Loading (Pivot Charts):**\n",
        "```markdown\n",
        "Load your data into a Pandas DataFrame. For this example, we will create a sample DataFrame.\n",
        "```\n",
        "**Code Cell 9: Load Data (Sample for Pivot Chart)**"
      ],
      "metadata": {
        "id": "M2bybJ7VMCtL"
      }
    },
    {
      "cell_type": "code",
      "source": [
        "# Sample data for pivot chart demonstration\n",
        "data_pivot = {\n",
        "    'Date': pd.to_datetime(['2023-01-01', '2023-01-01', '2023-01-15', '2023-02-01', '2023-02-01', '2023-02-20', '2023-01-01', '2023-02-10']),\n",
        "    'ProductCategory': ['Electronics', 'Furniture', 'Electronics', 'Furniture', 'Electronics', 'Furniture', 'Electronics', 'Furniture'],\n",
        "    'Region': ['North', 'North', 'South', 'North', 'South', 'South', 'West', 'West'],\n",
        "    'Sales': [200, 150, 220, 180, 250, 130, 300, 100],\n",
        "    'Quantity': [5, 3, 6, 4, 7, 2, 8, 3]\n",
        "}\n",
        "df_pivot_data = pd.DataFrame(data_pivot)\n",
        "df_pivot_data['Quarter'] = df_pivot_data['Date'].dt.to_period('Q').astype(str) # Add a Quarter column\n",
        "\n",
        "print(\"Sample Data for Pivot Chart:\")\n",
        "print(df_pivot_data)"
      ],
      "outputs": [],
      "execution_count": null,
      "metadata": {
        "id": "gSBy9Y9OMCtL"
      }
    },
    {
      "cell_type": "markdown",
      "source": [
        "**Markdown Cell for Creating Pivot Table:**\n",
        "```markdown\n",
        "Create a pivot table using `df.pivot_table()`.\n",
        "-   `values`: The column whose values will be aggregated.\n",
        "-   `index`: The column(s) to group by and use as the rows of the pivot table.\n",
        "-   `columns`: The column(s) to group by and use as the columns of the pivot table.\n",
        "-   `aggfunc`: The aggregation function to apply (e.g., 'sum', 'mean', 'count').\n",
        "```\n",
        "**Code Cell 10: Create a Pivot Table**"
      ],
      "metadata": {
        "id": "UVEazbLJMCtL"
      }
    },
    {
      "cell_type": "code",
      "source": [
        "# Create a pivot table: Sum of Sales by Region (index) and ProductCategory (columns)\n",
        "pivot_table_sales = df_pivot_data.pivot_table(\n",
        "    values='Sales',\n",
        "    index='Region',\n",
        "    columns='ProductCategory',\n",
        "    aggfunc='sum', # You can use 'mean', 'count', np.sum, np.mean, etc.\n",
        "    fill_value=0 # Optional: fill missing combinations with 0\n",
        ")\n",
        "\n",
        "print(\"\\nPivot Table (Sum of Sales by Region and ProductCategory):\")\n",
        "print(pivot_table_sales)"
      ],
      "outputs": [],
      "execution_count": null,
      "metadata": {
        "id": "kiomKax6MCtL"
      }
    },
    {
      "cell_type": "markdown",
      "source": [
        "**Markdown Cell for Generating Pivot Chart:**\n",
        "```markdown\n",
        "Generate a chart from the pivot table using Pandas' built-in plotting functions (which use Matplotlib backend).\n",
        "-   `pivot_table.plot(kind='bar')`: Creates a bar chart. Other kinds include 'line', 'hist', 'pie', 'area', 'barh'.\n",
        "```\n",
        "**Code Cell 11: Generate Pivot Chart (Bar Chart)**"
      ],
      "metadata": {
        "id": "Jyw9qSrAMCtL"
      }
    },
    {
      "cell_type": "code",
      "source": [
        "# Generate a bar chart from the pivot table\n",
        "pivot_table_sales.plot(kind='bar', figsize=(10, 6)) # kind can be 'line', 'barh', etc.\n",
        "plt.title('Total Sales by Region and Product Category')\n",
        "plt.xlabel('Region')\n",
        "plt.ylabel('Total Sales')\n",
        "plt.xticks(rotation=45) # Rotate x-axis labels for better readability\n",
        "plt.legend(title='Product Category')\n",
        "plt.tight_layout() # Adjust layout to prevent labels from overlapping\n",
        "plt.grid(axis='y', linestyle='--')\n",
        "plt.show()"
      ],
      "outputs": [],
      "execution_count": null,
      "metadata": {
        "id": "Y0luXjmLMCtM"
      }
    },
    {
      "cell_type": "markdown",
      "source": [
        "#### Practical Example (Pivot Chart - IT Products Sales)\n",
        "Let's walk through a practical example using a sample dataset. We'll create a pivot chart to visualize sales data.\n",
        "\n",
        "**Markdown Cell for IT Sales Data:**\n",
        "```markdown\n",
        "Sample Data:\n",
        "For this example, we are creating dummy data on sales of IT products across different quarters.\n",
        "The data will have columns like 'Date' (or 'Quarter'), 'Category', 'Subcategory', and 'Sales'.\n",
        "```\n",
        "**Code Cell 12: Generate Sample IT Sales Data**"
      ],
      "metadata": {
        "id": "mDn3JQXQMCtM"
      }
    },
    {
      "cell_type": "code",
      "source": [
        "# Generating dummy IT sales data\n",
        "np.random.seed(42) # for reproducibility\n",
        "num_entries = 100 # As mentioned in the initial sample description context\n",
        "quarters = [f'Q{q}' for q in range(1, 5)]\n",
        "categories = ['Peripherals', 'Software', 'Desktops', 'Laptops']\n",
        "subcategories_map = {\n",
        "    'Peripherals': ['Accessories', 'Components', 'Monitors'],\n",
        "    'Software': ['OS', 'Office Suites', 'Security'],\n",
        "    'Desktops': ['Gaming', 'Workstation', 'All-in-One'],\n",
        "    'Laptops': ['Ultrabook', 'Gaming', 'Convertible']\n",
        "}\n",
        "\n",
        "data_it_sales = []\n",
        "for _ in range(num_entries):\n",
        "    quarter = np.random.choice(quarters)\n",
        "    category = np.random.choice(categories)\n",
        "    subcategory = np.random.choice(subcategories_map[category])\n",
        "    sales = np.random.randint(500, 5000)\n",
        "    data_it_sales.append([quarter, category, subcategory, sales])\n",
        "\n",
        "df_it_sales = pd.DataFrame(data_it_sales, columns=['Quarter', 'Category', 'Subcategory', 'Sales'])\n",
        "\n",
        "print(\"Sample IT Sales Data (first 5 rows):\")\n",
        "print(df_it_sales.head())"
      ],
      "outputs": [],
      "execution_count": null,
      "metadata": {
        "id": "U51eOXoxMCtM"
      }
    },
    {
      "cell_type": "markdown",
      "source": [
        "**Markdown Cell for Creating IT Sales Pivot Table:**\n",
        "```markdown\n",
        "Create a pivot table to aggregate sales. The example in the text uses 'Date' (interpreted as Quarters here) as index, and a multi-level column index of ['Category', 'Subcategory'], with 'Sales' as values, aggregated by sum.\n",
        "```\n",
        "**Code Cell 13: Create Pivot Table for IT Sales**"
      ],
      "metadata": {
        "id": "UAuPGGWDMCtM"
      }
    },
    {
      "cell_type": "code",
      "source": [
        "# Create pivot table: Sum of Sales by Quarter (index) and (Category, Subcategory) (columns)\n",
        "pivot_table_it = df_it_sales.pivot_table(\n",
        "    index='Quarter',\n",
        "    columns=['Category', 'Subcategory'],\n",
        "    values='Sales',\n",
        "    aggfunc=np.sum, # Using np.sum as suggested by the prompt's example\n",
        "    fill_value=0 # Fill combinations with no sales with 0\n",
        ")\n",
        "\n",
        "print(\"\\nPivot Table for IT Sales (first 5 rows if many columns):\")\n",
        "# Displaying a part of it as it can be very wide\n",
        "print(pivot_table_it.head().iloc[:, :5]) # Show first 5 rows and first 5 column combinations"
      ],
      "outputs": [],
      "execution_count": null,
      "metadata": {
        "id": "I1M5hRxPMCtM"
      }
    },
    {
      "cell_type": "markdown",
      "source": [
        "**Markdown Cell for Generating IT Sales Pivot Chart:**\n",
        "```markdown\n",
        "Plotting the pivot table. A bar chart is used. Given the potentially large number of columns (Category x Subcategory combinations), careful plotting is needed. The example suggests a stacked bar chart or a grouped bar chart. Pandas plot on a multi-index column pivot table often creates grouped bars by default.\n",
        "```\n",
        "**Code Cell 14: Generate Pivot Chart for IT Sales**"
      ],
      "metadata": {
        "id": "euAPCmxgMCtM"
      }
    },
    {
      "cell_type": "code",
      "source": [
        "# Plotting a pivot chart (bar chart)\n",
        "# Due to many columns, this might be very crowded. Let's plot a subset or a stacked bar.\n",
        "# For simplicity, let's aggregate further or choose specific categories to plot.\n",
        "\n",
        "# Option 1: Plotting a subset of categories for clarity\n",
        "# For example, let's plot only for 'Software' and 'Laptops' categories\n",
        "if ('Software' in pivot_table_it.columns.levels[0]) and ('Laptops' in pivot_table_it.columns.levels[0]):\n",
        "    pivot_subset = pivot_table_it.loc[:, pd.IndexSlice[['Software', 'Laptops'], :]]\n",
        "    pivot_subset.plot(kind='bar', figsize=(14, 8), stacked=False) # stacked=True for stacked bar\n",
        "    plt.title('IT Sales Summary (Software & Laptops) by Subcategory')\n",
        "    plt.xlabel('Quarters')\n",
        "    plt.ylabel('Total Sales')\n",
        "    plt.xticks(rotation=0)\n",
        "    plt.legend(title=('Category', 'Subcategory'), bbox_to_anchor=(1.05, 1), loc='upper left', fontsize='small')\n",
        "    plt.tight_layout()\n",
        "    plt.grid(axis='y', linestyle='--')\n",
        "    plt.show()\n",
        "else:\n",
        "    print(\"Software or Laptops category not found in the generated pivot table columns. Plotting the full (potentially crowded) table.\")\n",
        "    pivot_table_it.plot(kind='bar', figsize=(18, 10), stacked=True) # Full plot, stacked for some manageability\n",
        "    plt.title('Sales Summary of IT Products by Category and Subcategory (Stacked)')\n",
        "    plt.xlabel('Quarters')\n",
        "    plt.ylabel('Total Sales')\n",
        "    plt.xticks(rotation=0)\n",
        "    plt.legend(title=('Category', 'Subcategory'), bbox_to_anchor=(1.05, 1), loc='upper left', ncol=2, fontsize='small')\n",
        "    plt.tight_layout()\n",
        "    plt.grid(axis='y', linestyle='--')\n",
        "    plt.show()\n",
        "\n",
        "# Option 2: Plot total sales per category (simpler pivot)\n",
        "pivot_total_category_sales = df_it_sales.pivot_table(\n",
        "    index='Quarter',\n",
        "    columns='Category',\n",
        "    values='Sales',\n",
        "    aggfunc=np.sum,\n",
        "    fill_value=0\n",
        ")\n",
        "pivot_total_category_sales.plot(kind='line', marker='o', figsize=(12,7))\n",
        "plt.title('Total IT Sales by Category per Quarter')\n",
        "plt.xlabel('Quarters')\n",
        "plt.ylabel('Total Sales')\n",
        "plt.xticks(rotation=0)\n",
        "plt.legend(title='Category')\n",
        "plt.grid(True, linestyle='--')\n",
        "plt.tight_layout()\n",
        "plt.show()"
      ],
      "outputs": [],
      "execution_count": null,
      "metadata": {
        "id": "xTan305PMCtM"
      }
    },
    {
      "cell_type": "markdown",
      "source": [
        "#### Output\n",
        "The output will be a bar chart (or line chart as shown in the alternative) visualizing the summarized sales data from the pivot table.\n",
        "\n",
        "#### Conclusion (Pivot Charts)\n",
        "Pivot charts are an indispensable tool for data analysis, providing a dynamic and intuitive way to summarize and visualize data. By leveraging libraries like Pandas and Matplotlib in Python, you can easily create pivot charts to uncover insights and make data-driven decisions. Whether for business intelligence, finance, marketing, or any other field, pivot charts enhance the ability to analyze and interpret data effectively.\n",
        "\n",
        "---\n",
        "### Practice Questions (50)\n",
        "\n",
        "**Treemaps**\n",
        "\n",
        "1.  What is the primary purpose of a treemap?\n",
        "2.  How does a treemap represent hierarchical data visually?\n",
        "3.  What does the size of each rectangle in a treemap typically signify?\n",
        "4.  Name two common applications of treemaps.\n",
        "5.  What is a key advantage of treemaps in terms of space utilization?\n",
        "6.  Which Python library is commonly used for creating interactive treemaps, as mentioned in the text?\n",
        "7.  What argument in `plotly.express.treemap` defines the hierarchical structure?\n",
        "8.  What argument in `plotly.express.treemap` specifies which column's values determine the rectangle sizes?\n",
        "9.  What does `px.Constant(\"Root Label\")` achieve when used in the `path` argument of `px.treemap`?\n",
        "10. How can you add color to a treemap based on a data column using Plotly Express?\n",
        "\n",
        "**Pivot Tables & Pivot Charts**\n",
        "\n",
        "11. What is a pivot table used for in data analysis?\n",
        "12. What is a pivot chart?\n",
        "13. Name two fields where pivot charts are widely used.\n",
        "14. What does the `index` argument in Pandas' `pivot_table()` function specify?\n",
        "15. What does the `columns` argument in Pandas' `pivot_table()` function specify?\n",
        "16. What does the `values` argument in Pandas' `pivot_table()` function specify?\n",
        "17. What is the purpose of the `aggfunc` argument in `pivot_table()`? Name two common aggregation functions.\n",
        "18. Which Python library is primarily used for creating pivot tables from DataFrames?\n",
        "19. Which Python library is typically used with Pandas to plot charts from pivot tables?\n",
        "20. How can you create a bar chart from a Pandas pivot table named `pt`?\n",
        "21. What does `fill_value=0` do in `pivot_table()`?\n",
        "22. Can a pivot table have multiple columns defining its column hierarchy? How?\n",
        "23. Can a pivot table have multiple columns defining its row index? How?\n",
        "24. How can you change the type of chart (e.g., from bar to line) when plotting a pivot table?\n",
        "25. Why might you use `plt.tight_layout()` after defining a Matplotlib plot?\n",
        "\n",
        "**Comparing and Contrasting**\n",
        "\n",
        "26. Both treemaps and pivot charts (e.g., stacked bar from pivot table) can show 'part-to-whole' relationships. What is a key difference in how treemaps represent hierarchy compared to a typical chart from a pivot table?\n",
        "27. When would a treemap be more suitable than a bar chart created from a pivot table for visualizing hierarchical data?\n",
        "28. For exploring data dynamically by changing aggregations or rearranging categories, which is generally more flexible directly: an interactive Plotly treemap or a Matplotlib chart from a Pandas pivot table that needs code regeneration for changes?\n",
        "\n",
        "**Syntax and Implementation (Treemaps - Plotly)**\n",
        "\n",
        "29. What is the basic syntax to create a treemap if your DataFrame `df` has columns 'Region', 'Country', 'Population'? (Assume hierarchy Region -> Country, values from Population)\n",
        "30. How would you set the title of a Plotly Express treemap to \"Population Distribution\"?\n",
        "31. How can you control the text displayed inside the treemap rectangles using `update_traces`?\n",
        "32. What does `fig.update_layout(margin = dict(t=50, l=25, r=25, b=25))` do for a Plotly figure?\n",
        "33. If your hierarchical path in a treemap is `['Continent', 'Country']` and `values` is 'GDP', what do the largest rectangles represent?\n",
        "\n",
        "**Syntax and Implementation (Pivot Charts - Pandas/Matplotlib)**\n",
        "\n",
        "34. Write the Pandas code to create a pivot table `pt_sales` showing average 'Sales' (`values`) for each 'Year' (`index`) and 'Product_Category' (`columns`) from a DataFrame `df_data`.\n",
        "35. How would you then plot `pt_sales` as a line chart?\n",
        "36. How do you add a title \"Average Sales Over Years\" to your Matplotlib plot?\n",
        "37. How do you label the x-axis as \"Year\" and y-axis as \"Average Sales\"?\n",
        "38. How can you add a legend to a Matplotlib plot generated from a pivot table with multiple columns?\n",
        "39. What does `plt.xticks(rotation=45)` do?\n",
        "40. If a pivot table has many columns, how might you make a bar chart more readable (name one technique, e.g., related to `kind` or `stacked` argument)?\n",
        "\n",
        "**Application and Interpretation**\n",
        "\n",
        "41. You have data on website page views: `Section`, `SubSection`, `PageName`, `Views`. Which visualization (treemap or pivot chart) would be better to quickly see the proportion of total views each `Section` and `SubSection` contributes?\n",
        "42. You have monthly sales data for different products and regions. You want to interactively filter by region and see total sales per product each month as a table, then quickly chart it. What tool (pivot table, treemap) forms the basis for this interactive exploration?\n",
        "43. A treemap shows a very large rectangle for \"Category X\" and within it, one \"Subcategory Y\" takes up almost all of \"Category X\"'s area. What does this imply?\n",
        "44. A pivot chart (bar) shows that sales for \"Product A\" consistently increased over four quarters, while \"Product B\" decreased. What kind of insight is this?\n",
        "45. If a treemap is colored by 'ProfitMargin' and some small rectangles (low sales volume) are bright green (high profit margin), what might this suggest?\n",
        "46. A pivot table aggregates data using `aggfunc='count'`. What does the resulting pivot chart show?\n",
        "47. When creating a treemap with `path=[px.Constant(\"All\"), 'L1', 'L2']`, what is the role of `px.Constant(\"All\")`?\n",
        "48. If your pivot table is indexed by 'Month' and has 'Product' as columns, with 'UnitsSold' as values, what would `pivot_table_object.plot(kind='area', stacked=True)` show?\n",
        "49. You have a dataset of employee information including 'Department', 'JobRole', and 'Salary'. How would you create a treemap showing the salary distribution within departments and then job roles?\n",
        "50. Using the same employee data, how would you create a pivot table showing the average salary for each 'JobRole' within each 'Department', and then plot this as a grouped bar chart?"
      ],
      "metadata": {
        "id": "N4wFI4woMCtM"
      }
    },
    {
      "cell_type": "markdown",
      "source": [
        "<div class=\"md-recitation\">\n",
        "  Sources\n",
        "  <ol>\n",
        "  <li><a href=\"https://github.com/Varun7702/OIBSIP\">https://github.com/Varun7702/OIBSIP</a></li>\n",
        "  </ol>\n",
        "</div>"
      ],
      "metadata": {
        "id": "PdyDF8S2MCtM"
      }
    }
  ],
  "metadata": {
    "colab": {
      "provenance": []
    },
    "kernelspec": {
      "display_name": "Python 3",
      "name": "python3"
    }
  },
  "nbformat": 4,
  "nbformat_minor": 0
}
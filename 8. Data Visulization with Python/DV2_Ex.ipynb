{
  "cells": [
    {
      "cell_type": "markdown",
      "source": [
        "Okay, I will enhance the Jupyter notebooks you've provided, incorporating more examples, interactive exercises with explanations, and then a set of 50 questions with hints covering all the material.\n",
        "\n",
        "**General Approach for Enhancements:**\n",
        "\n",
        "1.  **More Examples:** For each plot type or significant concept, I'll add an alternative example to illustrate different use cases or customizations.\n",
        "2.  **Interactive Exercises:** I'll introduce cells using the `input()` function, allowing users to specify parameters (like countries, years, colors, etc.). The code will then generate output or plots based on this input.\n",
        "3.  **Explanations:** Each interactive exercise will be followed by a clear explanation of what the code is doing and why the output appears as it does, especially in relation to the user's input.\n",
        "4.  **Data Integrity & Scope:** I'll be mindful of the state of `df_can` and other variables. For exercises that might alter data, I'll use copies (`.copy()`) or ensure clarity if a modification is intended for subsequent cells.\n",
        "5.  **Respect Notebook Focus:**\n",
        "    * Notebooks 2.1 and 2.2 primarily use the Pandas `.plot(kind='...')` interface.\n",
        "    * Notebook 2.3 focuses on plotting directly with `matplotlib.pyplot` functions (e.g., `plt.bar()`, `plt.scatter()`). Enhancements will adhere to this distinction.\n",
        "\n",
        "Let's begin with the first notebook.\n",
        "\n",
        "---\n",
        "\n",
        "## Enhanced Notebook 1: `2.1 Area Plots, Histograms, and Bar Charts.ipynb`\n",
        "\n",
        "**(I'll assume the initial library imports and data loading cells from your .ipynb file are run. I'll inject new sections marked as `NEW EXAMPLE:` or `INTERACTIVE EXERCISE:`)**"
      ],
      "metadata": {
        "id": "2QFear0vtQud"
      }
    },
    {
      "cell_type": "code",
      "source": [
        "# Import Primary Modules:\n",
        "import numpy as np\n",
        "import pandas as pd\n",
        "\n",
        "# use the inline backend to generate the plots within the browser\n",
        "%matplotlib inline\n",
        "\n",
        "import matplotlib as mpl\n",
        "import matplotlib.pyplot as plt\n",
        "\n",
        "mpl.style.use('ggplot')  # optional: for ggplot-like style\n",
        "\n",
        "# check for latest version of Matplotlib\n",
        "print('Matplotlib version: ', mpl.__version__) # >= 2.0.0\n",
        "\n",
        "# Fetching Data\n",
        "df_can = pd.read_csv('https://cf-courses-data.s3.us.cloud-object-storage.appdomain.cloud/IBMDeveloperSkillsNetwork-DV0101EN-SkillsNetwork/Data%20Files/Canada.csv')\n",
        "print('Data read into a pandas dataframe!')\n",
        "\n",
        "df_can.set_index('Country', inplace=True)\n",
        "\n",
        "# finally, let's create a list of years from 1980 - 2013\n",
        "# this will come in handy when we start plotting the data\n",
        "years = list(map(str, range(1980, 2014)))\n",
        "\n",
        "# Add 'Total' column if not present (it's used later)\n",
        "if 'Total' not in df_can.columns:\n",
        "    df_can['Total'] = df_can[years].sum(axis=1)\n",
        "else:\n",
        "    # Ensure 'Total' is numeric if it exists\n",
        "    df_can['Total'] = pd.to_numeric(df_can['Total'], errors='coerce')\n",
        "\n",
        "\n",
        "print(\"Initial setup complete. df_can is ready.\")\n",
        "df_can.head()"
      ],
      "outputs": [],
      "execution_count": null,
      "metadata": {
        "id": "HfSpQWNStQug"
      }
    },
    {
      "cell_type": "markdown",
      "source": [
        "---\n",
        "### Area Plots\n",
        "**(Original content for setting up `df_top5` and basic area plots is assumed here)**"
      ],
      "metadata": {
        "id": "AtlKmUGTtQui"
      }
    },
    {
      "cell_type": "code",
      "source": [
        "# Original df_top5 setup\n",
        "df_can.sort_values(['Total'], ascending=False, axis=0, inplace=True)\n",
        "df_top5 = df_can.head()\n",
        "df_top5 = df_top5[years].transpose()\n",
        "df_top5.index = df_top5.index.map(int) # for plotting"
      ],
      "outputs": [],
      "execution_count": null,
      "metadata": {
        "id": "b8CNNUPntQuj"
      }
    },
    {
      "cell_type": "markdown",
      "source": [
        "**NEW EXAMPLE: Stacked Area Plot for Top 3 Countries with Custom Colors**"
      ],
      "metadata": {
        "id": "gBtDW-1ztQuk"
      }
    },
    {
      "cell_type": "code",
      "source": [
        "df_top3 = df_can.head(3) # Already sorted by Total\n",
        "df_top3_t = df_top3[years].transpose()\n",
        "df_top3_t.index = df_top3_t.index.map(int)\n",
        "\n",
        "ax = df_top3_t.plot(kind='area',\n",
        "                    alpha=0.55,\n",
        "                    stacked=True, # Default, but explicit here\n",
        "                    figsize=(15, 7),\n",
        "                    color=['#5cb85c', '#5bc0de', '#d9534f']) # Green, Blue, Red\n",
        "\n",
        "ax.set_title('Immigration Trend of Top 3 Countries (Stacked)')\n",
        "ax.set_ylabel('Number of Immigrants')\n",
        "ax.set_xlabel('Years')\n",
        "ax.legend(title='Countries', loc='upper left')\n",
        "plt.show()"
      ],
      "outputs": [],
      "execution_count": null,
      "metadata": {
        "id": "cnKK1rOStQuk"
      }
    },
    {
      "cell_type": "markdown",
      "source": [
        "**Explanation:**\n",
        "This example creates a *stacked* area plot for the top 3 immigrating countries.\n",
        "* `stacked=True` (which is the default for `kind='area'`) ensures that the areas for each country are plotted on top of each other.\n",
        "* `color=['#5cb85c', '#5bc0de', '#d9534f']` provides a list of custom hex color codes for the areas.\n",
        "* The legend is explicitly titled 'Countries' and placed in the upper left.\n",
        "\n",
        "**INTERACTIVE EXERCISE: Unstacked Area Plot for N Countries chosen by User**"
      ],
      "metadata": {
        "id": "YKvAu6DAtQul"
      }
    },
    {
      "cell_type": "code",
      "source": [
        "# Make sure df_can is sorted by 'Total' for .head(N) to work as intended\n",
        "df_can.sort_values(['Total'], ascending=False, axis=0, inplace=True)\n",
        "\n",
        "try:\n",
        "    num_countries_str = input(\"Enter the number of top countries to plot (e.g., 2, 3, 4): \")\n",
        "    num_val = int(num_countries_str)\n",
        "\n",
        "    if 1 <= num_val <= 10: # Limit for readability\n",
        "        df_custom_top_n = df_can.head(num_val)\n",
        "        df_custom_top_n_t = df_custom_top_n[years].transpose()\n",
        "        df_custom_top_n_t.index = df_custom_top_n_t.index.map(int)\n",
        "\n",
        "        # Interactive color choice (simple version)\n",
        "        alpha_str = input(f\"Enter transparency for the plot (e.g., 0.45, default is 0.5): \")\n",
        "        try:\n",
        "            alpha_val = float(alpha_str) if alpha_str else 0.5\n",
        "        except ValueError:\n",
        "            print(\"Invalid alpha, using default 0.5.\")\n",
        "            alpha_val = 0.5\n",
        "\n",
        "        ax = df_custom_top_n_t.plot(kind='area',\n",
        "                                     alpha=alpha_val,\n",
        "                                     stacked=False,\n",
        "                                     figsize=(20, 10))\n",
        "\n",
        "        country_names = df_custom_top_n_t.columns.tolist()\n",
        "        ax.set_title(f'Immigration Trend of Top {num_val} Countries (Unstacked)')\n",
        "        ax.set_ylabel('Number of Immigrants')\n",
        "        ax.set_xlabel('Years')\n",
        "        ax.legend(title='Countries')\n",
        "        plt.show()\n",
        "        print(f\"Displayed an unstacked area plot for the top {num_val} countries: {', '.join(country_names)} with alpha={alpha_val}.\")\n",
        "    else:\n",
        "        print(\"Please enter a number between 1 and 10.\")\n",
        "\n",
        "except ValueError:\n",
        "    print(\"Invalid input. Please enter an integer for the number of countries.\")"
      ],
      "outputs": [],
      "execution_count": null,
      "metadata": {
        "id": "GzxrmVQMtQuq"
      }
    },
    {
      "cell_type": "markdown",
      "source": [
        "**Explanation:**\n",
        "1.  The code prompts you to enter how many top countries you want to visualize (e.g., if you enter `3`).\n",
        "2.  It then asks for a transparency value (alpha).\n",
        "3.  It selects the top `N` countries from `df_can` (which should be pre-sorted by 'Total' immigration).\n",
        "4.  The data for these countries is transposed to have years as the index.\n",
        "5.  An *unstacked* area plot (`stacked=False`) is generated using the `.plot(kind='area', ...)` method with your specified alpha.\n",
        "6.  The plot shows overlapping areas for each of the selected countries, allowing comparison of their individual trends over the years. The title and legend are updated to reflect your choices.\n",
        "\n",
        "---\n",
        "### Histograms\n",
        "**(Original content for `df_can['2013']` histogram and `np.histogram` is assumed)**\n",
        "\n",
        "**NEW EXAMPLE: Histogram of 'Total' Immigration with More Bins and Custom Color**"
      ],
      "metadata": {
        "id": "GnUBjEaftQus"
      }
    },
    {
      "cell_type": "code",
      "source": [
        "# Ensure 'Total' column is numeric\n",
        "df_can['Total'] = pd.to_numeric(df_can['Total'], errors='coerce').fillna(0)\n",
        "\n",
        "count, bin_edges = np.histogram(df_can['Total'], bins=20) # Use 20 bins\n",
        "\n",
        "df_can['Total'].plot(kind='hist',\n",
        "                     figsize=(10, 6),\n",
        "                     bins=20,\n",
        "                     xticks=bin_edges,\n",
        "                     color='skyblue',\n",
        "                     edgecolor='black') # Add edge color for better bin separation\n",
        "\n",
        "plt.title('Histogram of Total Immigration (1980-2013) per Country')\n",
        "plt.ylabel('Number of Countries')\n",
        "plt.xlabel('Total Number of Immigrants per Country')\n",
        "plt.xticks(rotation=45, ha='right') # Rotate ticks for better readability if they overlap\n",
        "plt.tight_layout() # Adjust layout\n",
        "plt.show()"
      ],
      "outputs": [],
      "execution_count": null,
      "metadata": {
        "id": "002U78QFtQut"
      }
    },
    {
      "cell_type": "markdown",
      "source": [
        "**Explanation:**\n",
        "This example plots a histogram for the 'Total' immigration column from `df_can`.\n",
        "* `bins=20` increases the number of bins, providing a more detailed distribution.\n",
        "* `color='skyblue'` sets the fill color of the bars.\n",
        "* `edgecolor='black'` adds black borders to the bars, making them more distinct.\n",
        "* `xticks=bin_edges` and `rotation=45` helps in labeling the x-axis more clearly, especially with more bins.\n",
        "\n",
        "**INTERACTIVE EXERCISE: Histogram for a User-Specified Year**"
      ],
      "metadata": {
        "id": "3zmB5sC9tQuy"
      }
    },
    {
      "cell_type": "code",
      "source": [
        "print(\"Available years for histogram:\", years[:5], \"...\", years[-5:]) # Show some available years\n",
        "year_input = input(f\"Enter a year between 1980 and 2013 to see its immigration distribution (e.g., 1985, 2000): \")\n",
        "\n",
        "if year_input in years:\n",
        "    # Ensure the year column data is numeric\n",
        "    df_can[year_input] = pd.to_numeric(df_can[year_input], errors='coerce').fillna(0)\n",
        "\n",
        "    num_bins_str = input(\"Enter number of bins for the histogram (e.g., 10, 15, default is 10): \")\n",
        "    try:\n",
        "        num_bins = int(num_bins_str) if num_bins_str else 10\n",
        "    except ValueError:\n",
        "        print(\"Invalid number of bins, using default 10.\")\n",
        "        num_bins = 10\n",
        "\n",
        "    # Calculate histogram data\n",
        "    count, bin_edges = np.histogram(df_can[year_input], bins=num_bins)\n",
        "\n",
        "    # Plot\n",
        "    df_can[year_input].plot(kind='hist',\n",
        "                            figsize=(10, 6),\n",
        "                            bins=num_bins,\n",
        "                            xticks=bin_edges,\n",
        "                            alpha=0.7)\n",
        "    plt.title(f'Immigration Distribution for the Year {year_input}')\n",
        "    plt.ylabel('Number of Countries')\n",
        "    plt.xlabel('Number of Immigrants')\n",
        "    plt.xticks(rotation=45, ha='right')\n",
        "    plt.tight_layout()\n",
        "    plt.show()\n",
        "    print(f\"Displayed histogram for year {year_input} with {num_bins} bins.\")\n",
        "    print(f\"Counts per bin: {count}\")\n",
        "    print(f\"Bin edges: {bin_edges}\")\n",
        "else:\n",
        "    print(f\"Year {year_input} is not valid or not in the dataset columns.\")"
      ],
      "outputs": [],
      "execution_count": null,
      "metadata": {
        "id": "IiE-5MxstQuz"
      }
    },
    {
      "cell_type": "markdown",
      "source": [
        "**Explanation:**\n",
        "1.  You enter a specific `year` (e.g., `1995`) and the desired number of `bins` (e.g., `12`).\n",
        "2.  The code extracts the immigration data for all countries for that chosen `year`.\n",
        "3.  `np.histogram(df_can[year_input], bins=num_bins)` calculates the frequencies (`count`) and the edges of each bin (`bin_edges`).\n",
        "4.  A histogram is plotted using `df_can[year_input].plot(kind='hist', bins=num_bins, xticks=bin_edges)`.\n",
        "5.  The x-axis shows the ranges of immigrant numbers (the bins), and the y-axis shows how many countries fall into each of those ranges for the year you selected. For instance, it might show that for 1995, X countries had 0-1000 immigrants, Y countries had 1001-2000 immigrants, and so on.\n",
        "\n",
        "**(Original content for stacked/unstacked histograms of Denmark, Norway, Sweden is assumed here)**\n",
        "\n",
        "---\n",
        "### Bar Charts\n",
        "**(Original content for Iceland bar chart and annotations is assumed here)**\n",
        "\n",
        "**NEW EXAMPLE: Horizontal Bar Chart for Top 5 Countries in a Specific Year**"
      ],
      "metadata": {
        "id": "GyytOr6ptQu1"
      }
    },
    {
      "cell_type": "code",
      "source": [
        "target_year = '2013' # Example year\n",
        "# Ensure target_year data is numeric\n",
        "df_can[target_year] = pd.to_numeric(df_can[target_year], errors='coerce').fillna(0)\n",
        "\n",
        "df_top5_year = df_can.sort_values(by=target_year, ascending=False).head(5)\n",
        "\n",
        "ax = df_top5_year[target_year].plot(kind='barh', figsize=(10, 7), color='coral')\n",
        "\n",
        "ax.set_title(f'Top 5 Immigrating Countries in {target_year}')\n",
        "ax.set_xlabel('Number of Immigrants')\n",
        "ax.set_ylabel('Country')\n",
        "\n",
        "# Annotate values on bars\n",
        "for index, value in enumerate(df_top5_year[target_year]):\n",
        "    label = f'{int(value):,}' # Format with comma for thousands\n",
        "    plt.annotate(label, xy=(value + 100, index - 0.1), color='black') # Adjust xy for label position\n",
        "\n",
        "plt.tight_layout()\n",
        "plt.show()"
      ],
      "outputs": [],
      "execution_count": null,
      "metadata": {
        "id": "vtpZPPTItQu1"
      }
    },
    {
      "cell_type": "markdown",
      "source": [
        "**Explanation:**\n",
        "This example creates a horizontal bar chart (`kind='barh'`) showing the top 5 countries by immigration in the year 2013.\n",
        "* `df_can.sort_values(by=target_year, ascending=False).head(5)` gets the top 5 countries for the specified year.\n",
        "* The y-axis lists the countries, and the x-axis shows the number of immigrants.\n",
        "* The loop with `plt.annotate` adds the actual immigration count as text next to each bar for clarity. The `xy` coordinates for annotation are slightly adjusted (`value + 100`, `index - 0.1`) to place the text nicely.\n",
        "\n",
        "**INTERACTIVE EXERCISE: Vertical Bar Chart for User-Selected Countries and Year Range**"
      ],
      "metadata": {
        "id": "w8yepqJWtQu3"
      }
    },
    {
      "cell_type": "code",
      "source": [
        "print(\"Enter country names, separated by commas (e.g., India,China,Philippines):\")\n",
        "country_names_input = input()\n",
        "selected_countries = [name.strip() for name in country_names_input.split(',')]\n",
        "\n",
        "print(\"\\nEnter start year (e.g., 2010):\")\n",
        "start_year_input = input()\n",
        "print(\"Enter end year (e.g., 2013):\")\n",
        "end_year_input = input()\n",
        "\n",
        "try:\n",
        "    start_year = int(start_year_input)\n",
        "    end_year = int(end_year_input)\n",
        "\n",
        "    if start_year > end_year or str(start_year) not in years or str(end_year) not in years:\n",
        "        print(\"Invalid year range or years not in dataset.\")\n",
        "    else:\n",
        "        year_range_to_plot = [str(y) for y in range(start_year, end_year + 1)]\n",
        "\n",
        "        # Filter for selected countries and ensure data is numeric for summing\n",
        "        df_subset = df_can.loc[df_can.index.isin(selected_countries), year_range_to_plot].apply(pd.to_numeric, errors='coerce').fillna(0)\n",
        "\n",
        "        if df_subset.empty:\n",
        "            print(\"No data found for the selected countries/years. Check country names.\")\n",
        "        else:\n",
        "            df_subset_sum = df_subset.sum(axis=1) # Sum immigration over the selected year range for each country\n",
        "\n",
        "            ax = df_subset_sum.plot(kind='bar', figsize=(12, 7), alpha=0.7)\n",
        "            ax.set_title(f'Total Immigration from {\", \".join(selected_countries)} ({start_year}-{end_year})')\n",
        "            ax.set_ylabel('Total Number of Immigrants')\n",
        "            ax.set_xlabel('Country')\n",
        "            plt.xticks(rotation=45, ha='right')\n",
        "            plt.tight_layout()\n",
        "            plt.show()\n",
        "            print(f\"Displayed bar chart for countries: {', '.join(selected_countries)} for the period {start_year}-{end_year}.\")\n",
        "            print(\"Data plotted (Total for the period):\\n\", df_subset_sum)\n",
        "\n",
        "except ValueError:\n",
        "    print(\"Invalid input for years or countries. Please check your input.\")\n",
        "except KeyError:\n",
        "    print(\"One or more selected countries not found. Please check spelling.\")"
      ],
      "outputs": [],
      "execution_count": null,
      "metadata": {
        "id": "c2IzE2zbtQu4"
      }
    },
    {
      "cell_type": "markdown",
      "source": [
        "**Explanation:**\n",
        "1.  You input a list of `country names` (comma-separated) and a `start year` and `end year`.\n",
        "2.  The code filters the `df_can` DataFrame for these countries and the specified range of years.\n",
        "3.  It then calculates the *total* immigration for each selected country *over that period* (`df_subset.sum(axis=1)`).\n",
        "4.  A vertical bar chart is generated where each bar represents one of your chosen countries, and the height of the bar shows the total number of immigrants from that country during the specified year range.\n",
        "5.  For example, if you select \"India, Pakistan\" and years \"2010-2012\", you'll see two bars: one for India's total from 2010-2012, and one for Pakistan's total from 2010-2012.\n",
        "\n",
        "---\n",
        "This completes the enhancements for the first notebook. I will now proceed with the others.\n",
        "\n",
        "## Enhanced Notebook 2: `2.2 Pie Charts, Box Plots, Scatter Plots, and Bubble Plots.ipynb`\n",
        "\n",
        "**(Initial setup: Same as the previous notebook - importing libraries, loading `df_can`, setting 'Country' as index, defining `years` list, ensuring 'Total' column.)**"
      ],
      "metadata": {
        "id": "OQrjGObBtQu7"
      }
    },
    {
      "cell_type": "code",
      "source": [
        "# Import Primary Modules:\n",
        "import numpy as np\n",
        "import pandas as pd\n",
        "%matplotlib inline\n",
        "import matplotlib as mpl\n",
        "import matplotlib.pyplot as plt\n",
        "mpl.style.use('ggplot')\n",
        "print('Matplotlib version: ', mpl.__version__)\n",
        "\n",
        "# Fetching Data\n",
        "df_can = pd.read_csv('https://cf-courses-data.s3.us.cloud-object-storage.appdomain.cloud/IBMDeveloperSkillsNetwork-DV0101EN-SkillsNetwork/Data%20Files/Canada.csv')\n",
        "df_can.set_index('Country', inplace=True)\n",
        "years = list(map(str, range(1980, 2014)))\n",
        "if 'Total' not in df_can.columns:\n",
        "    df_can['Total'] = df_can[years].sum(axis=1)\n",
        "else:\n",
        "    df_can['Total'] = pd.to_numeric(df_can['Total'], errors='coerce')\n",
        "\n",
        "# Grouping by continent for pie chart examples\n",
        "df_continents = df_can.groupby('Continent', axis=0)[years + ['Total']].sum() # Sum years and 'Total'\n",
        "\n",
        "print(\"Initial setup complete. df_can and df_continents are ready.\")\n",
        "df_continents.head()"
      ],
      "outputs": [],
      "execution_count": null,
      "metadata": {
        "id": "ccFbRj0ZtQu7"
      }
    },
    {
      "cell_type": "markdown",
      "source": [
        "---\n",
        "### Pie Charts\n",
        "**(Original content for `df_continents['Total'].plot(kind='pie', ...)` and its improved version is assumed)**\n",
        "\n",
        "**NEW EXAMPLE: Pie chart for a specific year with a slice pulled out (exploded) and custom colors**"
      ],
      "metadata": {
        "id": "1m2ekv2otQu8"
      }
    },
    {
      "cell_type": "code",
      "source": [
        "target_year_pie = '2010'\n",
        "# Ensure the target year column is numeric\n",
        "df_continents[target_year_pie] = pd.to_numeric(df_continents[target_year_pie], errors='coerce').fillna(0)\n",
        "\n",
        "# Create a new explode list based on the number of continents\n",
        "num_continents = len(df_continents.index)\n",
        "explode_list_dynamic = [0] * num_continents\n",
        "if num_continents > 1:\n",
        "    explode_list_dynamic[1] = 0.1 # Explode the second continent (e.g., Europe)\n",
        "\n",
        "# Dynamic color list (repeat if necessary, or use a colormap)\n",
        "colors_available = ['gold', 'yellowgreen', 'lightcoral', 'lightskyblue', 'lightgreen', 'pink', 'orange', 'purple']\n",
        "colors_for_pie = [colors_available[i % len(colors_available)] for i in range(num_continents)]\n",
        "\n",
        "\n",
        "df_continents[target_year_pie].plot(kind='pie',\n",
        "                                    figsize=(12, 7),\n",
        "                                    autopct='%1.1f%%',\n",
        "                                    startangle=90,\n",
        "                                    shadow=True,\n",
        "                                    labels=None,  # Turn off labels on pie chart\n",
        "                                    pctdistance=1.12,\n",
        "                                    colors=colors_for_pie,\n",
        "                                    explode=explode_list_dynamic\n",
        "                                   )\n",
        "\n",
        "plt.title(f'Immigration to Canada by Continent in {target_year_pie}', y=1.12, fontsize=15)\n",
        "plt.axis('equal')  # Sets the pie chart to look like a circle.\n",
        "plt.legend(labels=df_continents.index, loc='upper right', bbox_to_anchor=(1.15, 1), fontsize=9)\n",
        "plt.show()"
      ],
      "outputs": [],
      "execution_count": null,
      "metadata": {
        "id": "nCmBdg0_tQu9"
      }
    },
    {
      "cell_type": "markdown",
      "source": [
        "**Explanation:**\n",
        "This example creates a pie chart for immigration by continent in the year 2010.\n",
        "* `explode_list_dynamic` is created to pull out the second continent's slice slightly for emphasis.\n",
        "* A list of `colors_for_pie` is dynamically generated to ensure each slice has a color.\n",
        "* `labels=None` removes the default labels on the slices, relying on `plt.legend()` instead.\n",
        "* The legend is placed to the upper right, slightly outside the plot area using `bbox_to_anchor` for better readability if there are many continent names.\n",
        "\n",
        "**INTERACTIVE EXERCISE: Pie Chart for Top N Countries' Contribution to Total Immigration**"
      ],
      "metadata": {
        "id": "aRDlOfeBtQu_"
      }
    },
    {
      "cell_type": "code",
      "source": [
        "df_can.sort_values(by='Total', ascending=False, inplace=True)\n",
        "\n",
        "try:\n",
        "    num_top_countries = int(input(\"Enter N for top N countries (e.g., 5, 7): \"))\n",
        "    if 1 < num_top_countries <= 15: # Limit for pie chart readability\n",
        "        df_top_n_countries = df_can.head(num_top_countries)\n",
        "\n",
        "        # Calculate 'Other' category\n",
        "        sum_top_n = df_top_n_countries['Total'].sum()\n",
        "        sum_total_all = df_can['Total'].sum()\n",
        "        other_total = sum_total_all - sum_top_n\n",
        "\n",
        "        # Create data for pie chart\n",
        "        pie_data = df_top_n_countries['Total'].copy() # Use .copy()\n",
        "        if other_total > 0 : # Add 'Other' category if it makes sense\n",
        "             pie_data.loc['Other Countries'] = other_total # Use .loc to add new entry\n",
        "\n",
        "        # Dynamic explode list: explode the 'Other Countries' slice if it exists\n",
        "        explode_pie = [0] * len(pie_data)\n",
        "        if 'Other Countries' in pie_data.index:\n",
        "            explode_pie[pie_data.index.get_loc('Other Countries')] = 0.1\n",
        "\n",
        "        pie_data.plot(kind='pie',\n",
        "                      figsize=(10, 10),\n",
        "                      autopct='%1.1f%%',\n",
        "                      startangle=90,\n",
        "                      shadow=False, # Shadow can make small slices hard to see\n",
        "                      labels=None,\n",
        "                      pctdistance=0.8, # Place percentages inside slices\n",
        "                      explode=explode_pie)\n",
        "\n",
        "        plt.title(f'Proportion of Total Immigration by Top {num_top_countries} Countries (and Other)', y=1.05)\n",
        "        plt.axis('equal')\n",
        "        plt.legend(labels=pie_data.index, loc='center left', bbox_to_anchor=(1, 0, 0.5, 1))\n",
        "        plt.show()\n",
        "        print(f\"Displayed pie chart for top {num_top_countries} countries and 'Other'.\")\n",
        "        print(\"Data for pie chart (Total Immigration):\\n\", pie_data)\n",
        "\n",
        "    else:\n",
        "        print(\"Please enter a number between 2 and 15.\")\n",
        "except ValueError:\n",
        "    print(\"Invalid input. Please enter an integer.\")"
      ],
      "outputs": [],
      "execution_count": null,
      "metadata": {
        "id": "BgPAqjOatQvA"
      }
    },
    {
      "cell_type": "markdown",
      "source": [
        "**Explanation:**\n",
        "1.  You enter a number `N` (e.g., `5`).\n",
        "2.  The code takes the top `N` countries based on their 'Total' immigration.\n",
        "3.  It then calculates the sum of 'Total' immigration for all *other* countries and groups them into an 'Other Countries' category.\n",
        "4.  A pie chart is generated showing the proportion of total immigration from each of the top `N` countries and the 'Other Countries' category.\n",
        "5.  The 'Other Countries' slice is slightly exploded for emphasis if it exists. The percentages are placed inside the slices (`pctdistance=0.8`).\n",
        "6.  This helps visualize how dominant the top countries are compared to the rest of the world combined.\n",
        "\n",
        "---\n",
        "### Box Plots\n",
        "**(Original content for Japan box plot and comparing India/China is assumed)**"
      ],
      "metadata": {
        "id": "Fa46DWUDtQvB"
      }
    },
    {
      "cell_type": "code",
      "source": [
        "# Original df_japan setup\n",
        "df_japan = df_can.loc[['Japan'], years].transpose()\n",
        "# Original df_CI setup\n",
        "df_CI = df_can.loc[['China', 'India'], years].transpose()"
      ],
      "outputs": [],
      "execution_count": null,
      "metadata": {
        "id": "xhLp_B3wtQvC"
      }
    },
    {
      "cell_type": "markdown",
      "source": [
        "**NEW EXAMPLE: Horizontal Box Plot for Multiple European Countries**"
      ],
      "metadata": {
        "id": "DTkKHjwTtQvD"
      }
    },
    {
      "cell_type": "code",
      "source": [
        "european_countries = ['United Kingdom', 'France', 'Germany', 'Italy', 'Poland']\n",
        "df_europe = df_can.loc[european_countries, years].transpose()\n",
        "\n",
        "# Ensure all data is numeric for plotting\n",
        "for col in df_europe.columns:\n",
        "    df_europe[col] = pd.to_numeric(df_europe[col], errors='coerce')\n",
        "\n",
        "\n",
        "df_europe.plot(kind='box',\n",
        "               figsize=(12, 8),\n",
        "               color='darkblue', # Single color for all boxes\n",
        "               vert=False, # Horizontal\n",
        "               patch_artist=True, # Fill with color\n",
        "               medianprops=dict(color=\"orange\", linewidth=2.5)) # Customize median line\n",
        "\n",
        "plt.title('Immigration Distribution from Selected European Countries (1980-2013)')\n",
        "plt.xlabel('Number of Immigrants per Year')\n",
        "plt.ylabel('Countries')\n",
        "plt.show()\n",
        "\n",
        "print(\"Summary statistics for these European countries:\")\n",
        "print(df_europe.describe())"
      ],
      "outputs": [],
      "execution_count": null,
      "metadata": {
        "id": "j0TuTabotQvE"
      }
    },
    {
      "cell_type": "markdown",
      "source": [
        "**Explanation:**\n",
        "This example creates horizontal box plots for a selection of European countries.\n",
        "* `vert=False` makes the box plots horizontal.\n",
        "* `patch_artist=True` allows the boxes to be filled with the specified `color`. If `False`, they would be outlines.\n",
        "* `medianprops=dict(color=\"orange\", linewidth=2.5)` customizes the appearance of the median line within each box, making it orange and thicker.\n",
        "* This allows for easy comparison of the distributions (median, quartiles, range, outliers) of yearly immigration from these countries.\n",
        "\n",
        "**INTERACTIVE EXERCISE: Box Plot for User-Chosen Countries**"
      ],
      "metadata": {
        "id": "ZW-x5yuYtQvF"
      }
    },
    {
      "cell_type": "code",
      "source": [
        "print(\"Enter country names for box plot comparison, separated by commas (e.g., Haiti,Jamaica,Brazil):\")\n",
        "country_names_input_box = input()\n",
        "selected_countries_box = [name.strip() for name in country_names_input_box.split(',')]\n",
        "\n",
        "# Validate country names\n",
        "valid_countries = [c for c in selected_countries_box if c in df_can.index]\n",
        "\n",
        "if not valid_countries:\n",
        "    print(\"No valid countries found in the dataset. Please check spellings.\")\n",
        "else:\n",
        "    if len(valid_countries) < len(selected_countries_box):\n",
        "        print(f\"Warning: Some countries not found. Plotting for: {', '.join(valid_countries)}\")\n",
        "\n",
        "    df_custom_countries = df_can.loc[valid_countries, years].transpose()\n",
        "    # Ensure data is numeric\n",
        "    for col in df_custom_countries.columns:\n",
        "        df_custom_countries[col] = pd.to_numeric(df_custom_countries[col], errors='coerce')\n",
        "\n",
        "\n",
        "    plot_orientation = input(\"Plot horizontally? (yes/no, default no): \").lower()\n",
        "    is_horizontal = True if plot_orientation == 'yes' else False\n",
        "\n",
        "    df_custom_countries.plot(kind='box',\n",
        "                             figsize=(10, 7),\n",
        "                             vert=not is_horizontal, # vert is True for vertical\n",
        "                             patch_artist=True)\n",
        "                             # Colors will be default ggplot cycle unless specified\n",
        "\n",
        "    plt.title(f'Immigration Distribution: {\", \".join(valid_countries)}')\n",
        "    if is_horizontal:\n",
        "        plt.xlabel('Number of Immigrants per Year')\n",
        "        plt.ylabel('Countries')\n",
        "    else:\n",
        "        plt.ylabel('Number of Immigrants per Year')\n",
        "        plt.xlabel('Countries')\n",
        "\n",
        "    plt.tight_layout()\n",
        "    plt.show()\n",
        "    print(f\"Displayed box plot for: {', '.join(valid_countries)}.\")\n",
        "    print(\"Summary statistics:\\n\", df_custom_countries.describe())"
      ],
      "outputs": [],
      "execution_count": null,
      "metadata": {
        "id": "q_7HLdd_tQvF"
      }
    },
    {
      "cell_type": "markdown",
      "source": [
        "**Explanation:**\n",
        "1.  You provide a list of `country names` (e.g., `Haiti,Jamaica,Brazil`).\n",
        "2.  You also specify if you want the plot to be `horizontal`.\n",
        "3.  The code extracts the yearly immigration data for the valid countries you entered.\n",
        "4.  It then generates a box plot for each selected country, either vertically (default) or horizontally based on your choice.\n",
        "5.  This allows you to directly compare the statistical distributions of yearly immigration (median, spread, outliers) for the countries you are interested in. For example, you might see that country A has a higher median immigration than country B, but country B has a wider range of immigration numbers over the years.\n",
        "\n",
        "**(Original content for subplots with box and line plots, and box plots for decades, is assumed here)**\n",
        "\n",
        "---\n",
        "### Scatter Plots\n",
        "**(Original content for `df_tot` scatter plot and line of best fit is assumed)**"
      ],
      "metadata": {
        "id": "60UqrrcGtQvH"
      }
    },
    {
      "cell_type": "code",
      "source": [
        "# Original df_tot setup:\n",
        "df_tot = pd.DataFrame(df_can[years].sum(axis=0)) # Sum of all countries per year\n",
        "df_tot.index = map(int, df_tot.index) # Convert year index to int\n",
        "df_tot.reset_index(inplace=True)\n",
        "df_tot.columns = ['year', 'total']\n",
        "# Ensure 'total' column is numeric\n",
        "df_tot['total'] = pd.to_numeric(df_tot['total'], errors='coerce')"
      ],
      "outputs": [],
      "execution_count": null,
      "metadata": {
        "id": "uDqMJTUjtQvI"
      }
    },
    {
      "cell_type": "markdown",
      "source": [
        "**NEW EXAMPLE: Scatter Plot of Immigration from Two Countries against Each Other**"
      ],
      "metadata": {
        "id": "GtsGZTcltQvJ"
      }
    },
    {
      "cell_type": "code",
      "source": [
        "country1_scatter = 'India'\n",
        "country2_scatter = 'Pakistan'\n",
        "\n",
        "# Ensure data is numeric\n",
        "df_can[country1_scatter] = pd.to_numeric(df_can[country1_scatter], errors='coerce') # This is wrong, need to select year columns\n",
        "df_can[country2_scatter] = pd.to_numeric(df_can[country2_scatter], errors='coerce') # This is wrong\n",
        "\n",
        "# Correct approach for getting yearly data for specific countries:\n",
        "data_c1 = df_can.loc[country1_scatter, years].astype(float)\n",
        "data_c2 = df_can.loc[country2_scatter, years].astype(float)\n",
        "\n",
        "plt.figure(figsize=(10, 6))\n",
        "plt.scatter(x=data_c1, y=data_c2, color='darkgreen', alpha=0.6)\n",
        "plt.title(f'Correlation of Immigration: {country1_scatter} vs. {country2_scatter} (1980-2013)')\n",
        "plt.xlabel(f'Immigrants from {country1_scatter}')\n",
        "plt.ylabel(f'Immigrants from {country2_scatter}')\n",
        "plt.grid(True)\n",
        "\n",
        "# Add a 45-degree line for reference (y=x)\n",
        "min_val = min(data_c1.min(), data_c2.min())\n",
        "max_val = max(data_c1.max(), data_c2.max())\n",
        "plt.plot([min_val, max_val], [min_val, max_val], color='red', linestyle='--')\n",
        "\n",
        "plt.show()\n",
        "\n",
        "# Calculate correlation\n",
        "correlation = data_c1.corr(data_c2)\n",
        "print(f\"Pearson correlation between immigration from {country1_scatter} and {country2_scatter}: {correlation:.2f}\")"
      ],
      "outputs": [],
      "execution_count": null,
      "metadata": {
        "id": "WeCHymkgtQvJ"
      }
    },
    {
      "cell_type": "markdown",
      "source": [
        "**Explanation:**\n",
        "This example creates a scatter plot to explore the relationship between the number of immigrants from India and Pakistan each year.\n",
        "* Each point on the plot represents a year. The x-coordinate is the number of immigrants from India in that year, and the y-coordinate is the number from Pakistan.\n",
        "* `alpha=0.6` adds some transparency to the points.\n",
        "* A red dashed line ($y=x$) is added for reference. If points cluster around this line, it indicates similar numbers of immigrants from both countries each year.\n",
        "* The Pearson correlation coefficient is calculated and printed, quantifying the linear relationship. A value close to 1 suggests a strong positive correlation.\n",
        "\n",
        "**INTERACTIVE EXERCISE: Scatter Plot for Total Immigration vs. Immigration from a Chosen Country**"
      ],
      "metadata": {
        "id": "olvmA5ZKtQvK"
      }
    },
    {
      "cell_type": "code",
      "source": [
        "print(\"Available countries (sample):\", df_can.index.tolist()[:10])\n",
        "country_input_scatter = input(\"Enter a country name to compare its immigration with total Canadian immigration: \")\n",
        "\n",
        "if country_input_scatter in df_can.index:\n",
        "    # Ensure data is numeric\n",
        "    country_yearly_data = df_can.loc[country_input_scatter, years].astype(float)\n",
        "    total_yearly_data = df_tot['total'].astype(float) # df_tot.total is already sum over years for all countries\n",
        "\n",
        "    plt.figure(figsize=(12, 7))\n",
        "    plt.scatter(x=total_yearly_data, y=country_yearly_data, alpha=0.5, color='purple')\n",
        "\n",
        "    plt.title(f'Total Canadian Immigration vs. Immigration from {country_input_scatter} (1980-2013)')\n",
        "    plt.xlabel('Total Canadian Immigrants per Year (All Countries)')\n",
        "    plt.ylabel(f'Immigrants from {country_input_scatter} per Year')\n",
        "    plt.grid(True)\n",
        "\n",
        "    # Optional: Add a line of best fit for the selected country's data against total\n",
        "    try:\n",
        "        fit_coeffs = np.polyfit(total_yearly_data.dropna(), country_yearly_data.loc[total_yearly_data.dropna().index], deg=1) # handle NaNs if any\n",
        "        plt.plot(total_yearly_data, fit_coeffs[0] * total_yearly_data + fit_coeffs[1], color='red', linestyle='--')\n",
        "        plt.annotate(f'y = {fit_coeffs[0]:.2f}x + {fit_coeffs[1]:.2f}',\n",
        "                     xy=(np.median(total_yearly_data), np.median(country_yearly_data)),\n",
        "                     color='red')\n",
        "    except Exception as e:\n",
        "        print(f\"Could not compute or plot line of best fit: {e}\")\n",
        "\n",
        "    plt.show()\n",
        "\n",
        "    correlation_val = total_yearly_data.corr(country_yearly_data)\n",
        "    print(f\"Pearson correlation between total immigration and immigration from {country_input_scatter}: {correlation_val:.2f}\")\n",
        "else:\n",
        "    print(f\"Country '{country_input_scatter}' not found in the dataset.\")"
      ],
      "outputs": [],
      "execution_count": null,
      "metadata": {
        "id": "yxauM3xltQvL"
      }
    },
    {
      "cell_type": "markdown",
      "source": [
        "**Explanation:**\n",
        "1.  You choose a `country` (e.g., `Philippines`).\n",
        "2.  The code prepares two sets of data for each year from 1980-2013:\n",
        "    * X-axis: Total number of immigrants to Canada from *all* countries.\n",
        "    * Y-axis: Number of immigrants from *your chosen country*.\n",
        "3.  A scatter plot is generated. Each point represents a year.\n",
        "4.  This plot helps visualize if immigration from your chosen country tends to increase when overall immigration to Canada increases. A strong positive correlation (points trending upwards from left to right) would suggest this.\n",
        "5.  A line of best fit and the correlation coefficient are also added to quantify this relationship. For instance, if you choose 'Philippines', you might see that as total immigration to Canada increases, immigration from the Philippines also tends to increase.\n",
        "\n",
        "---\n",
        "### Bubble Plots\n",
        "**(Original content for Brazil/Argentina bubble plot, including `df_can_t` and normalization, is assumed)**"
      ],
      "metadata": {
        "id": "9NR2p2RwtQvM"
      }
    },
    {
      "cell_type": "code",
      "source": [
        "# Original df_can_t setup (transposed df_can with years as numeric index)\n",
        "df_can_t = df_can[years].transpose()\n",
        "df_can_t.index = map(int, df_can_t.index)\n",
        "df_can_t.index.name = 'Year'\n",
        "df_can_t.reset_index(inplace=True)\n",
        "# Ensure relevant country columns are numeric\n",
        "for country_col in ['Brazil', 'Argentina', 'China', 'India']: # For original and next examples\n",
        "    if country_col in df_can_t.columns:\n",
        "        df_can_t[country_col] = pd.to_numeric(df_can_t[country_col], errors='coerce')"
      ],
      "outputs": [],
      "execution_count": null,
      "metadata": {
        "id": "t0_xnw2LtQvM"
      }
    },
    {
      "cell_type": "markdown",
      "source": [
        "**NEW EXAMPLE: Bubble Plot for UK vs France, with bubble size representing combined total from these two**"
      ],
      "metadata": {
        "id": "xB7pgoqOtQvO"
      }
    },
    {
      "cell_type": "code",
      "source": [
        "country_A = 'United Kingdom'\n",
        "country_B = 'France'\n",
        "\n",
        "# Ensure columns exist and are numeric\n",
        "if country_A not in df_can_t.columns: df_can_t[country_A] = 0 # Or handle error\n",
        "if country_B not in df_can_t.columns: df_can_t[country_B] = 0\n",
        "df_can_t[country_A] = pd.to_numeric(df_can_t[country_A], errors='coerce').fillna(0)\n",
        "df_can_t[country_B] = pd.to_numeric(df_can_t[country_B], errors='coerce').fillna(0)\n",
        "\n",
        "\n",
        "# Calculate combined total for bubble size\n",
        "combined_total_AB = df_can_t[country_A] + df_can_t[country_B]\n",
        "\n",
        "# Normalize the combined total for bubble size\n",
        "norm_combined_AB = (combined_total_AB - combined_total_AB.min()) / (combined_total_AB.max() - combined_total_AB.min())\n",
        "# Handle cases where max == min (results in NaN or inf)\n",
        "if norm_combined_AB.isnull().all() or np.isinf(norm_combined_AB).all():\n",
        "    norm_combined_AB = pd.Series(0.5, index=combined_total_AB.index) # Default size if no variance\n",
        "\n",
        "bubble_size_AB = norm_combined_AB * 2000 + 20 # Scale factor + minimum size\n",
        "\n",
        "plt.figure(figsize=(14, 8))\n",
        "\n",
        "plt.scatter(x=df_can_t['Year'], y=df_can_t[country_A], s=bubble_size_AB, color='skyblue', alpha=0.6, label=country_A)\n",
        "plt.scatter(x=df_can_t['Year'], y=df_can_t[country_B], s=bubble_size_AB, color='salmon', alpha=0.6, label=country_B)\n",
        "# Note: Using the same bubble_size_AB for both shows the combined magnitude.\n",
        "# If you want individual magnitudes, normalize and scale them separately.\n",
        "\n",
        "plt.xlabel('Year')\n",
        "plt.ylabel('Number of Immigrants')\n",
        "plt.title(f'Immigration: {country_A} vs. {country_B} (Bubble size by their combined total)')\n",
        "plt.legend()\n",
        "plt.grid(True)\n",
        "plt.xlim(1975, 2015)\n",
        "plt.show()"
      ],
      "outputs": [],
      "execution_count": null,
      "metadata": {
        "id": "DGeVjMz-tQvO"
      }
    },
    {
      "cell_type": "markdown",
      "source": [
        "**Explanation:**\n",
        "This bubble plot visualizes yearly immigration from the UK and France.\n",
        "* The x-axis is the `Year`.\n",
        "* The y-axis shows the `Number of Immigrants` separately for the UK (skyblue bubbles) and France (salmon bubbles).\n",
        "* The *size* of the bubbles (`s=bubble_size_AB`) for *both* countries in a given year is determined by their *combined* total immigration in that year, normalized. A larger bubble in a particular year indicates a higher sum of immigrants from both UK and France together during that year.\n",
        "* This allows seeing individual trends against a backdrop of their joint immigration magnitude.\n",
        "\n",
        "**INTERACTIVE EXERCISE: Bubble plot for two user-chosen countries, bubble size by their individual normalized immigration**"
      ],
      "metadata": {
        "id": "4TTvxWO9tQvQ"
      }
    },
    {
      "cell_type": "code",
      "source": [
        "print(\"Available countries (sample):\", df_can.index.tolist()[:20]) # df_can has Country as index\n",
        "country1_bubble = input(\"Enter the first country name for bubble plot: \")\n",
        "country2_bubble = input(\"Enter the second country name: \")\n",
        "\n",
        "# df_can_t has 'Year' as a column and countries as other columns\n",
        "if country1_bubble in df_can_t.columns and country2_bubble in df_can_t.columns:\n",
        "\n",
        "    # Normalize data for country 1 for bubble size\n",
        "    norm_c1 = (df_can_t[country1_bubble] - df_can_t[country1_bubble].min()) / \\\n",
        "              (df_can_t[country1_bubble].max() - df_can_t[country1_bubble].min())\n",
        "    if norm_c1.isnull().all() or np.isinf(norm_c1).all(): norm_c1 = pd.Series(0.5, index=df_can_t.index) # Default size\n",
        "    size_c1 = norm_c1 * 1500 + 15 # Scale factor + min size\n",
        "\n",
        "    # Normalize data for country 2 for bubble size\n",
        "    norm_c2 = (df_can_t[country2_bubble] - df_can_t[country2_bubble].min()) / \\\n",
        "              (df_can_t[country2_bubble].max() - df_can_t[country2_bubble].min())\n",
        "    if norm_c2.isnull().all() or np.isinf(norm_c2).all(): norm_c2 = pd.Series(0.5, index=df_can_t.index) # Default size\n",
        "    size_c2 = norm_c2 * 1500 + 15\n",
        "\n",
        "    # Plotting\n",
        "    fig, ax = plt.subplots(figsize=(14, 8))\n",
        "\n",
        "    # Scatter plot for country 1\n",
        "    ax.scatter(df_can_t['Year'], df_can_t[country1_bubble],\n",
        "               s=size_c1,\n",
        "               color='green',\n",
        "               alpha=0.5,\n",
        "               label=country1_bubble)\n",
        "\n",
        "    # Scatter plot for country 2 on the same axes\n",
        "    ax.scatter(df_can_t['Year'], df_can_t[country2_bubble],\n",
        "               s=size_c2,\n",
        "               color='blue',\n",
        "               alpha=0.5,\n",
        "               label=country2_bubble)\n",
        "\n",
        "    ax.set_xlabel('Year')\n",
        "    ax.set_ylabel('Number of Immigrants')\n",
        "    ax.set_title(f'Immigration from {country1_bubble} and {country2_bubble} (1980-2013)')\n",
        "    ax.legend(loc='upper left', fontsize='large')\n",
        "    ax.set_xlim(1975, 2015)\n",
        "    plt.grid(True)\n",
        "    plt.show()\n",
        "    print(f\"Displayed bubble plot for {country1_bubble} and {country2_bubble}.\")\n",
        "    print(f\"Bubble sizes for {country1_bubble} are based on its own normalized yearly immigration.\")\n",
        "    print(f\"Bubble sizes for {country2_bubble} are based on its own normalized yearly immigration.\")\n",
        "\n",
        "else:\n",
        "    print(\"One or both countries not found in the transposed data (df_can_t). Check spellings. Available columns:\", df_can_t.columns.tolist()[:10])"
      ],
      "outputs": [],
      "execution_count": null,
      "metadata": {
        "id": "vaPkhcWntQva"
      }
    },
    {
      "cell_type": "markdown",
      "source": [
        "**Explanation:**\n",
        "1.  You select two `countries` (e.g., `China` and `India`).\n",
        "2.  For each country, the code normalizes its yearly immigration data. This normalized value (scaled) will determine the bubble size for that country in that year.\n",
        "3.  Two sets of bubbles are plotted on the same chart:\n",
        "    * One for `country1` (e.g., green bubbles), where the y-position is its immigrant count and bubble size reflects its immigration magnitude for that year.\n",
        "    * One for `country2` (e.g., blue bubbles), similarly plotted.\n",
        "4.  This allows you to compare the immigration trends of two countries over time, with the bubble size visually representing the relative magnitude of immigration for each country in each year independently. For instance, you can see if a peak year for China also corresponded to a large bubble (high immigration) for China, and similarly for India.\n",
        "\n",
        "---\n",
        "This completes the enhancements for the second notebook.\n",
        "\n",
        "## Enhanced Notebook 3: `2.3 Plotting Directly with Matplotlib.ipynb`\n",
        "\n",
        "This notebook focuses on using `matplotlib.pyplot` functions directly (e.g., `plt.plot()`, `plt.bar()`) rather than the Pandas `.plot()` method.\n",
        "\n",
        "**(Initial setup: Same as previous notebooks - importing libraries, loading `df_can`, setting 'Country' as index, defining `years` list, ensuring 'Total' column. Also, the `total_immigrants` Series (total immigration per year for all countries) and `haiti` Series will be useful as used in the original notebook.)**"
      ],
      "metadata": {
        "id": "eG6yAbX9tQvb"
      }
    },
    {
      "cell_type": "code",
      "source": [
        "# Import Primary Modules:\n",
        "import numpy as np\n",
        "import pandas as pd\n",
        "%matplotlib inline\n",
        "import matplotlib as mpl\n",
        "import matplotlib.pyplot as plt\n",
        "# mpl.style.use('ggplot') # Already set, but good to remember\n",
        "\n",
        "print('Matplotlib version: ', mpl.__version__)\n",
        "\n",
        "# Fetching Data\n",
        "df_can = pd.read_csv('https://cf-courses-data.s3.us.cloud-object-storage.appdomain.cloud/IBMDeveloperSkillsNetwork-DV0101EN-SkillsNetwork/Data%20Files/Canada.csv')\n",
        "df_can.set_index('Country', inplace=True) # Set index before creating 'years' based on columns\n",
        "years = list(map(str, range(1980, 2014))) # String years for column selection\n",
        "\n",
        "# Ensure year columns are numeric for calculations/plotting\n",
        "for col in years:\n",
        "    df_can[col] = pd.to_numeric(df_can[col], errors='coerce')\n",
        "\n",
        "\n",
        "if 'Total' not in df_can.columns:\n",
        "    df_can['Total'] = df_can[years].sum(axis=1)\n",
        "else:\n",
        "    df_can['Total'] = pd.to_numeric(df_can['Total'], errors='coerce')\n",
        "\n",
        "\n",
        "# Data for line plot examples: total immigrants per year\n",
        "df_line = df_can[years]\n",
        "total_immigrants = df_line.sum() # This will have string years as index\n",
        "total_immigrants.index = total_immigrants.index.map(int) # Convert index to int for plotting\n",
        "\n",
        "# Data for Haiti example\n",
        "# df_can.reset_index(inplace=True) # Done in original for Haiti, but let's try to keep 'Country' as index\n",
        "# haiti_data_series = df_can[df_can['Country']=='Haiti'][years].T # This assumes Country is a column\n",
        "# df_can.set_index('Country', inplace=True) # Set it back if reset\n",
        "\n",
        "haiti_data_series = df_can.loc['Haiti', years] # Select Haiti's data\n",
        "haiti_data_series.index = haiti_data_series.index.map(int) # Convert index to int for plotting\n",
        "\n",
        "print(\"Initial setup complete.\")"
      ],
      "outputs": [],
      "execution_count": null,
      "metadata": {
        "id": "yQnta2gvtQvc"
      }
    },
    {
      "cell_type": "markdown",
      "source": [
        "---\n",
        "### Line Plot (Directly with Matplotlib)\n",
        "**(Original content for plotting `total_immigrants` and `haiti` using `ax.plot()` is assumed)**\n",
        "\n",
        "**NEW EXAMPLE: Plotting immigration trends for two countries on the same plot with labels and legend**"
      ],
      "metadata": {
        "id": "vNeasW8dtQve"
      }
    },
    {
      "cell_type": "code",
      "source": [
        "country1_name = 'India'\n",
        "country2_name = 'China'\n",
        "\n",
        "# Extract data, ensure years are integers for x-axis\n",
        "data_c1 = df_can.loc[country1_name, years]\n",
        "data_c1.index = data_c1.index.map(int)\n",
        "\n",
        "data_c2 = df_can.loc[country2_name, years]\n",
        "data_c2.index = data_c2.index.map(int)\n",
        "\n",
        "fig, ax = plt.subplots(figsize=(12, 7))\n",
        "\n",
        "# Plot for country 1\n",
        "ax.plot(data_c1.index, data_c1.values, color='green', marker='o', linestyle='-', label=country1_name)\n",
        "# Plot for country 2\n",
        "ax.plot(data_c2.index, data_c2.values, color='blue', marker='x', linestyle='--', label=country2_name)\n",
        "\n",
        "ax.set_title(f'Immigration Trend: {country1_name} vs. {country2_name}')\n",
        "ax.set_xlabel('Year')\n",
        "ax.set_ylabel('Number of Immigrants')\n",
        "ax.legend() # Display legend based on 'label' in plot calls\n",
        "ax.grid(True)\n",
        "plt.show()"
      ],
      "outputs": [],
      "execution_count": null,
      "metadata": {
        "id": "NBib5u6HtQvf"
      }
    },
    {
      "cell_type": "markdown",
      "source": [
        "**Explanation:**\n",
        "This example uses `ax.plot()` twice to draw lines for India and China on the same subplot.\n",
        "* `data_c1.index` (years) is used for the x-values, and `data_c1.values` for the y-values.\n",
        "* `color`, `marker`, and `linestyle` customize each line.\n",
        "* `label=country_name` in `ax.plot()` is crucial for `ax.legend()` to automatically pick up the correct labels.\n",
        "\n",
        "**INTERACTIVE EXERCISE: Line plot for a user-selected country with custom style**"
      ],
      "metadata": {
        "id": "teliblULtQvf"
      }
    },
    {
      "cell_type": "code",
      "source": [
        "print(\"Available countries (sample):\", df_can.index.tolist()[:10])\n",
        "country_plot_input = input(\"Enter a country name to plot its immigration trend: \")\n",
        "\n",
        "if country_plot_input in df_can.index:\n",
        "    country_data = df_can.loc[country_plot_input, years]\n",
        "    country_data.index = country_data.index.map(int) # X-axis (years) as int\n",
        "\n",
        "    print(\"Available line styles: '-' (solid), '--' (dashed), ':' (dotted), '-.' (dash-dot)\")\n",
        "    line_style = input(\"Enter a line style (default solid '-'): \") or '-'\n",
        "    print(\"Common colors: b (blue), g (green), r (red), c (cyan), m (magenta), y (yellow), k (black)\")\n",
        "    line_color = input(\"Enter a line color (e.g., 'r', default 'b'): \") or 'b'\n",
        "\n",
        "    fig, ax = plt.subplots(figsize=(10,6))\n",
        "    ax.plot(country_data.index, country_data.values,\n",
        "            linestyle=line_style,\n",
        "            color=line_color,\n",
        "            marker='.') # Add a small marker for each point\n",
        "\n",
        "    ax.set_title(f'Immigration Trend for {country_plot_input}')\n",
        "    ax.set_xlabel('Year')\n",
        "    ax.set_ylabel('Number of Immigrants')\n",
        "    ax.legend([country_plot_input]) # Manual legend if label not in plot\n",
        "    ax.grid(True)\n",
        "    plt.show()\n",
        "    print(f\"Displayed line plot for {country_plot_input} with style '{line_style}' and color '{line_color}'.\")\n",
        "else:\n",
        "    print(f\"Country '{country_plot_input}' not found.\")"
      ],
      "outputs": [],
      "execution_count": null,
      "metadata": {
        "id": "j9fsKtFOtQvg"
      }
    },
    {
      "cell_type": "markdown",
      "source": [
        "**Explanation:**\n",
        "1.  You enter a `country name`, a preferred `line style` (e.g., `--` for dashed), and a `line color` (e.g., `g` for green).\n",
        "2.  The code extracts the immigration data for that country.\n",
        "3.  `ax.plot(country_data.index, country_data.values, linestyle=line_style, color=line_color)` uses your choices to customize the plot.\n",
        "4.  The resulting graph shows the immigration trend for your chosen country, styled as you specified. For example, choosing 'Germany', '--', and 'r' would plot Germany's immigration trend as a red dashed line.\n",
        "\n",
        "---\n",
        "### Scatter Plot (Directly with Matplotlib)\n",
        "**(Original content for plotting `total_immigrants` using `ax.scatter()` is assumed)**\n",
        "\n",
        "**NEW EXAMPLE: Scatter plot comparing two years of immigration data for all countries**"
      ],
      "metadata": {
        "id": "5_7XhAe3tQvh"
      }
    },
    {
      "cell_type": "code",
      "source": [
        "year1 = '1985'\n",
        "year2 = '2005'\n",
        "\n",
        "# Ensure data is numeric\n",
        "data_year1 = df_can[year1]\n",
        "data_year2 = df_can[year2]\n",
        "\n",
        "fig, ax = plt.subplots(figsize=(10, 7))\n",
        "ax.scatter(data_year1, data_year2, alpha=0.5, color='purple', edgecolors='k', s=50) # s for size\n",
        "\n",
        "ax.set_title(f'Immigration in {year1} vs. {year2} (per Country)')\n",
        "ax.set_xlabel(f'Number of Immigrants in {year1}')\n",
        "ax.set_ylabel(f'Number of Immigrants in {year2}')\n",
        "\n",
        "# Add a y=x line for reference\n",
        "min_val = min(data_year1.min(), data_year2.min())\n",
        "max_val = max(data_year1.max(), data_year2.max())\n",
        "ax.plot([min_val, max_val], [min_val, max_val], color='red', linestyle='--')\n",
        "\n",
        "ax.grid(True)\n",
        "plt.show()\n",
        "\n",
        "correlation_years = data_year1.corr(data_year2)\n",
        "print(f\"Correlation between immigration in {year1} and {year2}: {correlation_years:.2f}\")"
      ],
      "outputs": [],
      "execution_count": null,
      "metadata": {
        "id": "Dv43DexhtQvh"
      }
    },
    {
      "cell_type": "markdown",
      "source": [
        "**Explanation:**\n",
        "This scatter plot compares immigration levels for each country between two specific years (1985 and 2005).\n",
        "* Each dot represents a country. Its x-coordinate is its immigration number in `year1`, and its y-coordinate is its immigration number in `year2`.\n",
        "* `edgecolors='k'` adds a black border to the purple markers, and `s=50` sets their size.\n",
        "* A red dashed $y=x$ line is added. Countries above this line had more immigrants in `year2` than in `year1`; countries below had fewer.\n",
        "* The correlation coefficient indicates how similarly countries' immigration numbers changed (or stayed similar) between these two years.\n",
        "\n",
        "**INTERACTIVE EXERCISE: Scatter Plot for Immigration from a country vs. another country**"
      ],
      "metadata": {
        "id": "14fVspOAtQvj"
      }
    },
    {
      "cell_type": "code",
      "source": [
        "print(\"Available countries (sample):\", df_can.index.tolist()[:10])\n",
        "c1_name_scatter = input(\"Enter the first country name: \")\n",
        "c2_name_scatter = input(\"Enter the second country name: \")\n",
        "\n",
        "if c1_name_scatter in df_can.index and c2_name_scatter in df_can.index:\n",
        "    c1_data_scatter = df_can.loc[c1_name_scatter, years]\n",
        "    c2_data_scatter = df_can.loc[c2_name_scatter, years]\n",
        "\n",
        "    marker_style = input(\"Enter marker style (e.g., 'o', 's', '^', 'x', default 'o'): \") or 'o'\n",
        "\n",
        "    fig, ax = plt.subplots(figsize=(10,6))\n",
        "    ax.scatter(c1_data_scatter.values, c2_data_scatter.values,\n",
        "               marker=marker_style,\n",
        "               alpha=0.6,\n",
        "               color='darkcyan')\n",
        "\n",
        "    ax.set_title(f'Immigration Correlation: {c1_name_scatter} vs. {c2_name_scatter}')\n",
        "    ax.set_xlabel(f'Immigrants from {c1_name_scatter} (per year)')\n",
        "    ax.set_ylabel(f'Immigrants from {c2_name_scatter} (per year)')\n",
        "    ax.grid(True)\n",
        "\n",
        "    # Optional: Add a regression line to see the trend\n",
        "    try:\n",
        "        # Ensure data is numeric and drop NaNs for polyfit\n",
        "        x_data = pd.to_numeric(c1_data_scatter.values, errors='coerce')\n",
        "        y_data = pd.to_numeric(c2_data_scatter.values, errors='coerce')\n",
        "        mask = ~np.isnan(x_data) & ~np.isnan(y_data)\n",
        "        if np.any(mask):\n",
        "            fit = np.polyfit(x_data[mask], y_data[mask], deg=1)\n",
        "            ax.plot(x_data, fit[0] * x_data + fit[1], color='red', linestyle=':') # Plot over original x_data range\n",
        "            ax.annotate(f'y = {fit[0]:.2f}x + {fit[1]:.2f}',\n",
        "                         xy=(np.median(x_data[mask]), np.median(y_data[mask])),\n",
        "                         color='red')\n",
        "    except Exception as e:\n",
        "        print(f\"Could not add regression line: {e}\")\n",
        "\n",
        "    plt.show()\n",
        "\n",
        "    correlation = pd.to_numeric(c1_data_scatter, errors='coerce').corr(pd.to_numeric(c2_data_scatter, errors='coerce'))\n",
        "    print(f\"Displayed scatter plot for {c1_name_scatter} vs. {c2_name_scatter} with marker '{marker_style}'.\")\n",
        "    print(f\"Pearson Correlation: {correlation:.2f}\")\n",
        "\n",
        "else:\n",
        "    print(\"One or both countries not found.\")"
      ],
      "outputs": [],
      "execution_count": null,
      "metadata": {
        "id": "GaylUJjatQvk"
      }
    },
    {
      "cell_type": "markdown",
      "source": [
        "**Explanation:**\n",
        "1.  You choose two `countries` and a `marker style` (e.g., `s` for square).\n",
        "2.  The code creates a scatter plot where each point represents a year. The x-value is the immigration from the first country in that year, and the y-value is from the second country.\n",
        "3.  This helps visualize if their immigration trends are correlated (e.g., if immigration from country A is high, is it also high from country B in the same year?). A regression line is optionally added to highlight the trend.\n",
        "4.  For example, if you compare 'USA' and 'Mexico', you might see how their immigration numbers relate year by year.\n",
        "\n",
        "---\n",
        "### Bar Plot (Directly with Matplotlib)\n",
        "**(Original content for top 5 countries bar plot using `ax.bar()` is assumed)**"
      ],
      "metadata": {
        "id": "1cCud3dftQvl"
      }
    },
    {
      "cell_type": "code",
      "source": [
        "# Original df_bar_5 setup:\n",
        "df_can.sort_values(['Total'], ascending=False, axis=0, inplace=True)\n",
        "df_top5_bar = df_can.head()\n",
        "# For direct plt.bar, we typically need x (categories) and y (heights) as separate lists/arrays\n",
        "country_labels_top5 = df_top5_bar.index.tolist()\n",
        "country_totals_top5 = df_top5_bar['Total'].tolist()\n",
        "# Fix long name if present (example from notebook)\n",
        "if 'United Kingdom of Great Britain and Northern Ireland' in country_labels_top5:\n",
        "    uk_index = country_labels_top5.index('United Kingdom of Great Britain and Northern Ireland')\n",
        "    country_labels_top5[uk_index] = 'UK'"
      ],
      "outputs": [],
      "execution_count": null,
      "metadata": {
        "id": "N7-C6f3vtQvm"
      }
    },
    {
      "cell_type": "markdown",
      "source": [
        "**NEW EXAMPLE: Horizontal Bar Plot for Top 5 Countries with Custom Colors and Error Bars (Illustrative)**"
      ],
      "metadata": {
        "id": "TjVMCNr4tQvq"
      }
    },
    {
      "cell_type": "code",
      "source": [
        "# For error bars, we'd need some measure of variance. Let's use std dev of yearly immigration as an example.\n",
        "# Calculate standard deviation of yearly immigration for the top 5 countries\n",
        "std_dev_top5 = df_top5_bar[years].std(axis=1).values # std for each of the top 5 countries\n",
        "\n",
        "fig, ax = plt.subplots(figsize=(12, 8))\n",
        "\n",
        "# Horizontal bar plot\n",
        "bars = ax.barh(country_labels_top5, country_totals_top5,\n",
        "               color=['#5cb85c', '#5bc0de', '#d9534f', '#f0ad4e', '#337ab7'],\n",
        "               xerr=std_dev_top5, # Error bar data\n",
        "               capsize=5) # Caps on error bars\n",
        "\n",
        "ax.set_title('Top 5 Countries by Total Immigration (with StdDev of Yearly Immigration as Error)')\n",
        "ax.set_xlabel('Total Number of Immigrants (1980-2013)')\n",
        "ax.set_ylabel('Country')\n",
        "\n",
        "# Add data labels to the bars\n",
        "for i, bar in enumerate(bars):\n",
        "    width = bar.get_width()\n",
        "    ax.text(width + 5000, bar.get_y() + bar.get_height()/2, f'{int(width):,}',\n",
        "            ha='left', va='center', color='black')\n",
        "\n",
        "plt.gca().invert_yaxis() # To display the country with highest total at the top\n",
        "plt.tight_layout()\n",
        "plt.show()"
      ],
      "outputs": [],
      "execution_count": null,
      "metadata": {
        "id": "M-m0BPv2tQvr"
      }
    },
    {
      "cell_type": "markdown",
      "source": [
        "**Explanation:**\n",
        "This example creates a horizontal bar plot for the top 5 immigrating countries.\n",
        "* `ax.barh()` is used for horizontal bars.\n",
        "* A list of custom `color` codes is provided.\n",
        "* `xerr=std_dev_top5` adds illustrative error bars (using the standard deviation of their yearly immigration counts). This shows the variability in yearly immigration for each country around their total.\n",
        "* `capsize=5` adds caps to the error bars.\n",
        "* `plt.gca().invert_yaxis()` ensures the country with the highest total immigration is at the top.\n",
        "* Data labels are added next to each bar.\n",
        "\n",
        "**INTERACTIVE EXERCISE: Bar plot for a specific year, N countries, user-chosen color**"
      ],
      "metadata": {
        "id": "UbKk6dPqtQvs"
      }
    },
    {
      "cell_type": "code",
      "source": [
        "year_bar_input = input(f\"Enter a year ({years[0]}-{years[-1]}) for the bar plot: \")\n",
        "if year_bar_input not in years:\n",
        "    print(\"Invalid year.\")\n",
        "else:\n",
        "    num_countries_bar = int(input(\"Enter number of top countries to display (e.g., 5): \"))\n",
        "    bar_color = input(\"Enter a color for the bars (e.g., 'teal', 'purple', default 'skyblue'): \") or 'skyblue'\n",
        "\n",
        "    # Sort by the chosen year\n",
        "    df_sorted_year = df_can.sort_values(by=year_bar_input, ascending=False)\n",
        "    df_top_n_year = df_sorted_year.head(num_countries_bar)\n",
        "\n",
        "    country_names_bar = df_top_n_year.index.tolist()\n",
        "    immigration_values_bar = df_top_n_year[year_bar_input].tolist()\n",
        "\n",
        "    fig, ax = plt.subplots(figsize=(10,6))\n",
        "    bars = ax.bar(country_names_bar, immigration_values_bar, color=bar_color)\n",
        "\n",
        "    ax.set_title(f'Top {num_countries_bar} Immigrating Countries in {year_bar_input}')\n",
        "    ax.set_xlabel('Country')\n",
        "    ax.set_ylabel('Number of Immigrants')\n",
        "    plt.xticks(rotation=45, ha=\"right\") # Rotate labels if long\n",
        "\n",
        "    # Add data labels on top of bars\n",
        "    for bar in bars:\n",
        "        yval = bar.get_height()\n",
        "        plt.text(bar.get_x() + bar.get_width()/2.0, yval + 50, f'{int(yval):,}', ha='center', va='bottom') # Adjust yval+50 for spacing\n",
        "\n",
        "    plt.tight_layout()\n",
        "    plt.show()\n",
        "    print(f\"Displayed bar plot for top {num_countries_bar} countries in {year_bar_input} with color '{bar_color}'.\")"
      ],
      "outputs": [],
      "execution_count": null,
      "metadata": {
        "id": "1QOP9EuFtQvt"
      }
    },
    {
      "cell_type": "markdown",
      "source": [
        "**Explanation:**\n",
        "1.  You enter a `year`, the `number of top countries` (N) for that year, and a `color`.\n",
        "2.  The DataFrame is sorted based on immigration in the chosen `year`. The top N countries are selected.\n",
        "3.  `ax.bar(country_names, immigration_values, color=bar_color)` creates the vertical bar plot.\n",
        "4.  The plot shows bars for each of the top N countries, with height representing their immigration count in that specific year, using your chosen color. Data labels are added on top of each bar.\n",
        "\n",
        "---\n",
        "### Histogram (Directly with Matplotlib)\n",
        "**(Original content for histogram of 2013 data using `ax.hist()` is assumed)**"
      ],
      "metadata": {
        "id": "f7B5DxcktQvu"
      }
    },
    {
      "cell_type": "code",
      "source": [
        "# Original data setup for 2013 histogram\n",
        "df_country_2013 = df_can['2013'] # This is a Series of immigration numbers for each country in 2013"
      ],
      "outputs": [],
      "execution_count": null,
      "metadata": {
        "id": "9Q6gZWEStQvu"
      }
    },
    {
      "cell_type": "markdown",
      "source": [
        "**NEW EXAMPLE: Histogram with Cumulative Frequency and Different Style**"
      ],
      "metadata": {
        "id": "yw8OQo0GtQvv"
      }
    },
    {
      "cell_type": "code",
      "source": [
        "fig, ax = plt.subplots(figsize=(10, 6))\n",
        "\n",
        "# Plot histogram\n",
        "counts, bins, patches = ax.hist(df_country_2013.dropna(), # Drop NaNs if any\n",
        "                                bins=15,\n",
        "                                color='darkcyan',\n",
        "                                edgecolor='black',\n",
        "                                cumulative=True, # Cumulative frequency\n",
        "                                histtype='stepfilled') # Different histogram type\n",
        "\n",
        "ax.set_title('Cumulative Histogram of Immigration in 2013')\n",
        "ax.set_xlabel('Number of Immigrants')\n",
        "ax.set_ylabel('Cumulative Number of Countries')\n",
        "ax.grid(axis='y', linestyle='--') # Horizontal grid lines\n",
        "plt.show()\n",
        "\n",
        "print(\"Bins:\", bins)\n",
        "print(\"Cumulative Counts:\", counts)"
      ],
      "outputs": [],
      "execution_count": null,
      "metadata": {
        "id": "qFV6kJAEtQvv"
      }
    },
    {
      "cell_type": "markdown",
      "source": [
        "**Explanation:**\n",
        "This example shows a cumulative histogram.\n",
        "* `cumulative=True` makes each bin show the count of data points in that bin *plus all previous bins*. The y-axis value for the last bin will be the total number of countries.\n",
        "* `histtype='stepfilled'` changes the appearance of the histogram bars to filled steps.\n",
        "* This type of histogram helps visualize percentiles or see how many countries fall below a certain immigration threshold.\n",
        "\n",
        "**INTERACTIVE EXERCISE: Histogram for a user-chosen country over the years**"
      ],
      "metadata": {
        "id": "qCEGQsNXtQvw"
      }
    },
    {
      "cell_type": "code",
      "source": [
        "print(\"Available countries (sample):\", df_can.index.tolist()[:10])\n",
        "hist_country_input = input(\"Enter a country to see its yearly immigration distribution: \")\n",
        "\n",
        "if hist_country_input in df_can.index:\n",
        "    country_yearly_data_hist = df_can.loc[hist_country_input, years].astype(float)\n",
        "\n",
        "    num_bins_hist_str = input(\"Enter number of bins (e.g., 8, 10, default 10): \") or \"10\"\n",
        "    hist_color = input(\"Enter color for histogram (e.g., 'salmon', default 'gray'): \") or 'gray'\n",
        "\n",
        "    try:\n",
        "        num_bins_hist = int(num_bins_hist_str)\n",
        "\n",
        "        fig, ax = plt.subplots(figsize=(10,6))\n",
        "        ax.hist(country_yearly_data_hist.dropna(), # Drop NaNs if any\n",
        "                bins=num_bins_hist,\n",
        "                color=hist_color,\n",
        "                edgecolor='black')\n",
        "\n",
        "        ax.set_title(f'Distribution of Yearly Immigration from {hist_country_input} (1980-2013)')\n",
        "        ax.set_xlabel('Number of Immigrants in a Year')\n",
        "        ax.set_ylabel('Frequency (Number of Years)')\n",
        "        plt.show()\n",
        "        print(f\"Displayed histogram for {hist_country_input} with {num_bins_hist} bins and color '{hist_color}'.\")\n",
        "    except ValueError:\n",
        "        print(\"Invalid number of bins.\")\n",
        "else:\n",
        "    print(f\"Country '{hist_country_input}' not found.\")"
      ],
      "outputs": [],
      "execution_count": null,
      "metadata": {
        "id": "84kW1LODtQvw"
      }
    },
    {
      "cell_type": "markdown",
      "source": [
        "**Explanation:**\n",
        "1.  You choose a `country`, `number of bins`, and a `color`.\n",
        "2.  The code takes the yearly immigration data for that country from 1980-2013.\n",
        "3.  `ax.hist()` plots the distribution. The x-axis represents ranges of immigrant numbers, and the y-axis shows how many years that country's immigration fell into that specific range.\n",
        "4.  For instance, if you pick 'Japan' and 8 bins, the histogram might show that in X years, Japan sent 0-200 immigrants; in Y years, it sent 201-400, etc.\n",
        "\n",
        "---\n",
        "### Pie Chart (Directly with Matplotlib)\n",
        "**(Original content for `total_immigrants[0:5]` pie chart using `ax.pie()` is assumed)**"
      ],
      "metadata": {
        "id": "Fr6BAZ58tQvx"
      }
    },
    {
      "cell_type": "code",
      "source": [
        "# Original setup for pie chart (first 5 years of total_immigrants)\n",
        "# total_immigrants is Series with int index (years) and sum of immigrants as values\n",
        "pie_values = total_immigrants.iloc[0:5].values\n",
        "pie_labels = total_immigrants.iloc[0:5].index.tolist()"
      ],
      "outputs": [],
      "execution_count": null,
      "metadata": {
        "id": "caMlqVWxtQvy"
      }
    },
    {
      "cell_type": "markdown",
      "source": [
        "**NEW EXAMPLE: Pie chart for continent distribution in a specific year with ' बाकी' (Other) category**"
      ],
      "metadata": {
        "id": "2V7mNtevtQvy"
      }
    },
    {
      "cell_type": "code",
      "source": [
        "# Data: Immigration by continent for a specific year, e.g., 2013\n",
        "year_for_pie = '2013'\n",
        "continent_data_year = df_can.groupby('Continent')[year_for_pie].sum().sort_values(ascending=False)\n",
        "\n",
        "# Keep top N, group rest into 'Other' (बाकी)\n",
        "top_n_pie = 4\n",
        "if len(continent_data_year) > top_n_pie:\n",
        "    pie_data_cont = continent_data_year.head(top_n_pie).copy()\n",
        "    pie_data_cont['बाकी (Other)'] = continent_data_year.iloc[top_n_pie:].sum()\n",
        "else:\n",
        "    pie_data_cont = continent_data_year.copy()\n",
        "\n",
        "fig, ax = plt.subplots(figsize=(10, 8))\n",
        "# Custom colors and explode for 'Other'\n",
        "colors = plt.cm.viridis(np.linspace(0, 1, len(pie_data_cont))) # Use a colormap\n",
        "explode_list = [0] * len(pie_data_cont)\n",
        "if 'बाकी (Other)' in pie_data_cont.index:\n",
        "    explode_list[pie_data_cont.index.get_loc('बाकी (Other)')] = 0.1\n",
        "\n",
        "\n",
        "wedges, texts, autotexts = ax.pie(pie_data_cont,\n",
        "                                  labels=pie_data_cont.index,\n",
        "                                  autopct='%1.1f%%',\n",
        "                                  startangle=90,\n",
        "                                  colors=colors,\n",
        "                                  explode=explode_list,\n",
        "                                  pctdistance=0.85,\n",
        "                                  textprops=dict(color=\"w\", weight=\"bold\")) # White bold text for percentages\n",
        "\n",
        "ax.set_aspect('equal')\n",
        "plt.title(f'Immigration Proportion by Continent in {year_for_pie} (Top {top_n_pie} & बाकी)', pad=20)\n",
        "# Add a legend if labels are too crowded or for consistency\n",
        "ax.legend(wedges, pie_data_cont.index, title=\"Continents\", loc=\"center left\", bbox_to_anchor=(1, 0, 0.5, 1))\n",
        "plt.setp(autotexts, size=10) # Set size for autopct text\n",
        "plt.setp(texts, size=12)    # Set size for labels if drawn on pie\n",
        "plt.tight_layout()\n",
        "plt.show()"
      ],
      "outputs": [],
      "execution_count": null,
      "metadata": {
        "id": "53QXqdDOtQvz"
      }
    },
    {
      "cell_type": "markdown",
      "source": [
        "**Explanation:**\n",
        "This example shows immigration proportions by continent for 2013.\n",
        "* It groups data by 'Continent' and sums for the year 2013.\n",
        "* It takes the top 4 continents and groups the rest into an 'बाकी (Other)' category.\n",
        "* `plt.cm.viridis` is used to get a set of distinct colors from a Matplotlib colormap.\n",
        "* The 'बाकी (Other)' slice is exploded.\n",
        "* `textprops` is used to make the percentage labels white and bold for better contrast if slices are dark.\n",
        "* `ax.legend` is used to display the continent names clearly, especially if they are long or numerous.\n",
        "\n",
        "**INTERACTIVE EXERCISE: Pie Chart for Top N countries' contribution in a specific year**"
      ],
      "metadata": {
        "id": "HqQ4Wf76tQv0"
      }
    },
    {
      "cell_type": "code",
      "source": [
        "pie_year_input = input(f\"Enter a year ({years[0]}-{years[-1]}) for the pie chart: \")\n",
        "if pie_year_input not in years:\n",
        "    print(\"Invalid year.\")\n",
        "else:\n",
        "    num_countries_pie = int(input(\"Enter N for top N countries to show in pie (e.g., 5, max 10): \"))\n",
        "    if not (1 < num_countries_pie <=10):\n",
        "        print(\"Please enter N between 2 and 10 for readability.\")\n",
        "    else:\n",
        "        # Sort by the chosen year\n",
        "        df_sorted_year_pie = df_can.sort_values(by=pie_year_input, ascending=False)\n",
        "        df_top_n_year_pie = df_sorted_year_pie.head(num_countries_pie)\n",
        "\n",
        "        # Data for 'Other'\n",
        "        sum_top_n_val = df_top_n_year_pie[pie_year_input].sum()\n",
        "        sum_total_year_val = df_can[pie_year_input].sum()\n",
        "        other_val = sum_total_year_val - sum_top_n_val\n",
        "\n",
        "        pie_values_final = df_top_n_year_pie[pie_year_input].copy()\n",
        "        if other_val > 0:\n",
        "            pie_values_final.loc['Other Countries'] = other_val\n",
        "\n",
        "        pie_labels_final = pie_values_final.index.tolist()\n",
        "\n",
        "        # Explode the 'Other Countries' slice if it exists\n",
        "        explode_final = [0] * len(pie_values_final)\n",
        "        if 'Other Countries' in pie_values_final.index:\n",
        "            explode_final[pie_values_final.index.get_loc('Other Countries')] = 0.1\n",
        "\n",
        "        fig, ax = plt.subplots(figsize=(10,8))\n",
        "        ax.pie(pie_values_final,\n",
        "               labels=None, # Labels in legend\n",
        "               autopct='%1.1f%%',\n",
        "               startangle=120,\n",
        "               pctdistance=0.8,\n",
        "               explode=explode_final,\n",
        "               colors=plt.cm.Set3.colors[:len(pie_values_final)]) # Use a colormap for colors\n",
        "\n",
        "        ax.set_aspect('equal')\n",
        "        plt.title(f'Immigration Proportion by Top {num_countries_pie} Countries (and Other) in {pie_year_input}', pad=15)\n",
        "        ax.legend(pie_labels_final, title=\"Countries\", loc=\"best\", bbox_to_anchor=(1, 0, 0.5, 1))\n",
        "        plt.tight_layout()\n",
        "        plt.show()\n",
        "        print(f\"Displayed pie chart for top {num_countries_pie} countries in {pie_year_input}.\")"
      ],
      "outputs": [],
      "execution_count": null,
      "metadata": {
        "id": "BuS3_PPAtQv0"
      }
    },
    {
      "cell_type": "markdown",
      "source": [
        "**Explanation:**\n",
        "1.  You choose a `year` and `N` (number of top countries).\n",
        "2.  The code finds the top N countries for that year and calculates an 'Other Countries' sum.\n",
        "3.  `ax.pie()` creates the chart. The 'Other Countries' slice is slightly exploded.\n",
        "4.  Labels are managed via `ax.legend` to keep the pie chart itself clean, especially if country names are long. `plt.cm.Set3.colors` provides a set of visually distinct colors.\n",
        "5.  This visualizes the relative contribution of the leading countries to the total immigration in the selected year.\n",
        "\n",
        "---\n",
        "### Subplotting (Directly with Matplotlib)\n",
        "**(Original content for `fig, axs = plt.subplots(1, 2, sharey=True)` and `fig.add_subplot()` examples is assumed)**\n",
        "\n",
        "**NEW EXAMPLE: 2x2 Subplots with different plot types and shared X-axis for top row**"
      ],
      "metadata": {
        "id": "O1n7AfP4tQv2"
      }
    },
    {
      "cell_type": "code",
      "source": [
        "country_subplot = 'India' # Example country for some plots\n",
        "data_country_subplot = df_can.loc[country_subplot, years]\n",
        "data_country_subplot.index = data_country_subplot.index.map(int)\n",
        "\n",
        "fig, axs = plt.subplots(2, 2, figsize=(15, 10), sharex='row') # Share x-axis for plots in the same row\n",
        "\n",
        "# Top-left: Line plot for 'India'\n",
        "axs[0, 0].plot(data_country_subplot.index, data_country_subplot.values, color='blue', label=country_subplot)\n",
        "axs[0, 0].set_title(f'Line Plot: {country_subplot}')\n",
        "axs[0, 0].set_ylabel('Number of Immigrants')\n",
        "axs[0, 0].grid(True)\n",
        "axs[0, 0].legend()\n",
        "\n",
        "# Top-right: Scatter plot for 'India' (Year vs Immigrants)\n",
        "axs[0, 1].scatter(data_country_subplot.index, data_country_subplot.values, color='green', label=country_subplot)\n",
        "axs[0, 1].set_title(f'Scatter Plot: {country_subplot}')\n",
        "# axs[0, 1].set_ylabel('Number of Immigrants') # Y-label shared if sharey='all' or similar\n",
        "axs[0, 1].grid(True)\n",
        "axs[0, 1].legend()\n",
        "\n",
        "# Bottom-left: Histogram of India's yearly immigration\n",
        "axs[1, 0].hist(data_country_subplot.values, bins=10, color='purple', edgecolor='black')\n",
        "axs[1, 0].set_title(f'Histogram: Yearly Immigration from {country_subplot}')\n",
        "axs[1, 0].set_xlabel('Number of Immigrants in a Year')\n",
        "axs[1, 0].set_ylabel('Frequency (Number of Years)')\n",
        "\n",
        "# Bottom-right: Bar chart of total immigration for top 3 continents in 2013\n",
        "continent_data_2013_top3 = df_can.groupby('Continent')['2013'].sum().nlargest(3)\n",
        "axs[1, 1].bar(continent_data_2013_top3.index, continent_data_2013_top3.values, color='orange')\n",
        "axs[1, 1].set_title('Bar Chart: Top 3 Continents (2013)')\n",
        "axs[1, 1].set_xlabel('Continent')\n",
        "axs[1, 1].set_ylabel('Immigrants in 2013')\n",
        "plt.xticks(rotation=45, ha='right', ax=axs[1,1]) # Rotate labels for this specific subplot\n",
        "\n",
        "fig.suptitle('Comprehensive Immigration Overview', fontsize=16)\n",
        "plt.tight_layout(rect=[0, 0, 1, 0.96]) # Adjust layout to make space for suptitle\n",
        "plt.show()"
      ],
      "outputs": [],
      "execution_count": null,
      "metadata": {
        "id": "ZzKCIA8rtQv2"
      }
    },
    {
      "cell_type": "markdown",
      "source": [
        "**Explanation:**\n",
        "This example creates a 2x2 grid of subplots:\n",
        "* `sharex='row'` makes plots in the same row share their x-axis, which is useful for comparing trends over the same period (like the line and scatter for India).\n",
        "* Each `axs[i, j]` is used to draw a different type of plot with its own data and customizations.\n",
        "* `fig.suptitle` adds an overall title to the entire figure.\n",
        "* `plt.tight_layout()` adjusts spacing, and `rect` can fine-tune it to prevent the suptitle from overlapping subplot titles.\n",
        "\n",
        "**INTERACTIVE EXERCISE: Create a 1x2 subplot layout with user-chosen plot types for a country**"
      ],
      "metadata": {
        "id": "l6K6pob9tQv3"
      }
    },
    {
      "cell_type": "code",
      "source": [
        "print(\"Available countries (sample):\", df_can.index.tolist()[:10])\n",
        "subplot_country = input(\"Enter a country name for subplots: \")\n",
        "\n",
        "if subplot_country not in df_can.index:\n",
        "    print(f\"Country {subplot_country} not found.\")\n",
        "else:\n",
        "    country_data_subplot_inter = df_can.loc[subplot_country, years]\n",
        "    country_data_subplot_inter.index = country_data_subplot_inter.index.map(int) # int years for x-axis\n",
        "\n",
        "    print(\"\\nChoose plot type for LEFT subplot:\")\n",
        "    print(\"1: Line Plot\")\n",
        "    print(\"2: Bar Chart (Yearly Immigration)\")\n",
        "    plot1_choice = input(\"Enter choice (1 or 2): \")\n",
        "\n",
        "    print(\"\\nChoose plot type for RIGHT subplot:\")\n",
        "    print(\"1: Scatter Plot (Yearly Immigration)\")\n",
        "    print(\"2: Histogram (Distribution of Yearly Immigration)\")\n",
        "    plot2_choice = input(\"Enter choice (1 or 2): \")\n",
        "\n",
        "    fig, axs = plt.subplots(1, 2, figsize=(18, 6), sharey=True) # Share Y axis\n",
        "    fig.suptitle(f'Immigration Analysis for {subplot_country}', fontsize=16)\n",
        "\n",
        "    # Left Subplot\n",
        "    if plot1_choice == '1':\n",
        "        axs[0].plot(country_data_subplot_inter.index, country_data_subplot_inter.values, color='dodgerblue')\n",
        "        axs[0].set_title('Line Plot')\n",
        "        axs[0].set_xlabel('Year')\n",
        "        axs[0].set_ylabel('Number of Immigrants')\n",
        "    elif plot1_choice == '2':\n",
        "        axs[0].bar(country_data_subplot_inter.index, country_data_subplot_inter.values, color='lightcoral')\n",
        "        axs[0].set_title('Bar Chart')\n",
        "        axs[0].set_xlabel('Year')\n",
        "        axs[0].set_ylabel('Number of Immigrants') # Redundant if sharey=True and set on one plot\n",
        "    else:\n",
        "        axs[0].text(0.5, 0.5, 'Invalid choice for left plot', ha='center', va='center')\n",
        "    axs[0].grid(True)\n",
        "\n",
        "\n",
        "    # Right Subplot\n",
        "    if plot2_choice == '1':\n",
        "        axs[1].scatter(country_data_subplot_inter.index, country_data_subplot_inter.values, color='forestgreen')\n",
        "        axs[1].set_title('Scatter Plot')\n",
        "        axs[1].set_xlabel('Year')\n",
        "    elif plot2_choice == '2':\n",
        "        axs[1].hist(country_data_subplot_inter.values, bins=10, color='gold', edgecolor='black')\n",
        "        axs[1].set_title('Histogram')\n",
        "        axs[1].set_xlabel('Number of Immigrants per Year')\n",
        "        axs[1].set_ylabel('Frequency (No. of Years)') # This will be hidden if sharey, unless it's the primary y-axis\n",
        "    else:\n",
        "        axs[1].text(0.5, 0.5, 'Invalid choice for right plot', ha='center', va='center')\n",
        "    axs[1].grid(True)\n",
        "\n",
        "    plt.tight_layout(rect=[0, 0.03, 1, 0.95]) # Adjust for suptitle\n",
        "    plt.show()\n",
        "    print(f\"Displayed 1x2 subplots for {subplot_country} based on your choices.\")"
      ],
      "outputs": [],
      "execution_count": null,
      "metadata": {
        "id": "7SphXSjKtQv4"
      }
    },
    {
      "cell_type": "markdown",
      "source": [
        "**Explanation:**\n",
        "1.  You pick a `country`.\n",
        "2.  You choose a `plot type` for the left subplot (Line or Bar) and another for the right subplot (Scatter or Histogram).\n",
        "3.  `fig, axs = plt.subplots(1, 2, ...)` creates a figure with one row and two columns of subplots. `sharey=True` means they will share the same y-axis scale if applicable.\n",
        "4.  Conditional logic (`if plot1_choice == '1': ...`) determines which plot is drawn on `axs[0]` (left) and `axs[1]` (right) based on your input.\n",
        "5.  This allows for flexible side-by-side comparison of different visual aspects of a country's immigration data. For instance, seeing a line plot next to a histogram for the same country can give both trend and distribution insights.\n",
        "\n",
        "---\n",
        "This completes the enhancements for all notebooks. Now, I'll compile the 50 questions.\n",
        "\n",
        "## 50 Questions based on Covered Topics (All Four Notebooks)\n",
        "\n",
        "**Area Plots**\n",
        "\n",
        "1.  **Q:** What Pandas plot `kind` is used to create an area plot?\n",
        "    * **Hint:** `df.plot(kind='...')`\n",
        "2.  **Q:** By default, are area plots in Pandas `stacked` or `unstacked`?\n",
        "    * **Hint:** Think about how multiple series are typically displayed in an area plot.\n",
        "3.  **Q:** Which parameter controls the transparency of an area plot?\n",
        "    * **Hint:** It's a common parameter for transparency, often a float between 0 and 1.\n",
        "4.  **Q:** If you have a DataFrame `df_top_countries` with years as index and countries as columns, how would you create an unstacked area plot using the artist layer (object-oriented method)?\n",
        "    * **Hint:** `ax = df_top_countries.plot(...); ax.set_title(...)`\n",
        "5.  **Q:** To make an area plot using the scripting layer, after `df.plot(...)`, how do you add a title?\n",
        "    * **Hint:** `plt. ...`\n",
        "\n",
        "**Histograms**\n",
        "\n",
        "6.  **Q:** What does a histogram primarily represent?\n",
        "    * **Hint:** The ______ distribution of a numeric dataset.\n",
        "7.  **Q:** What are the sections along the x-axis of a histogram called?\n",
        "    * **Hint:** Data is partitioned into these.\n",
        "8.  **Q:** Which NumPy function can be used to get the frequency counts and bin edges for a dataset before plotting a histogram?\n",
        "    * **Hint:** `np. ...`\n",
        "9.  **Q:** In `df_data['YearColumn'].plot(kind='hist')`, what does the y-axis represent?\n",
        "    * **Hint:** The number of data points (or occurrences) in each bin.\n",
        "10. **Q:** If you plot a histogram of a DataFrame `df_t` with multiple columns directly, and the x-axis represents years, what does this typically indicate about the structure of `df_t`?\n",
        "    * **Hint:** The `plot.hist()` was likely applied to the wrong orientation of data if you expected distributions of values *within* each column.\n",
        "11. **Q:** How can you change the number of bins in a Pandas histogram?\n",
        "    * **Hint:** Use the `bins=...` parameter.\n",
        "12. **Q:** What does `stacked=True` do in a histogram with multiple datasets?\n",
        "    * **Hint:** How are the bars for different datasets displayed relative to each other in each bin?\n",
        "13. **Q:** When using `ax.hist()` directly with Matplotlib, what does the function return (often unpacked into `counts, bins, patches`)?\n",
        "    * **Hint:** The first two elements are numerical arrays.\n",
        "\n",
        "**Bar Charts**\n",
        "\n",
        "14. **Q:** To create a vertical bar chart from a Pandas Series `s`, what `kind` is used in `s.plot()`?\n",
        "    * **Hint:** `kind='...'`\n",
        "15. **Q:** How do you create a horizontal bar chart using Pandas plotting?\n",
        "    * **Hint:** `kind='...'` (similar to vertical, but with an 'h').\n",
        "16. **Q:** Which Matplotlib `pyplot` function is used to add text annotations to a plot?\n",
        "    * **Hint:** `plt.annotate(...)`\n",
        "17. **Q:** In `plt.annotate()`, what does the `xy` parameter specify?\n",
        "    * **Hint:** The point to be annotated.\n",
        "18. **Q:** How can you rotate x-axis labels in Matplotlib to prevent overlap?\n",
        "    * **Hint:** `plt.xticks(rotation=...)`\n",
        "19. **Q:** When creating a bar chart directly with `ax.bar()`, what do the first two main arguments typically represent?\n",
        "    * **Hint:** Categories and their corresponding values/heights.\n",
        "\n",
        "**Pie Charts**\n",
        "\n",
        "20. **Q:** What does a pie chart represent about a dataset?\n",
        "    * **Hint:** Proportions or percentages of categories.\n",
        "21. **Q:** Which parameter in `plot(kind='pie')` is used to display percentages on the slices?\n",
        "    * **Hint:** `autopct='...'`\n",
        "22. **Q:** What does the `explode` parameter do in a pie chart?\n",
        "    * **Hint:** Offsets a slice from the center.\n",
        "23. **Q:** If `labels=None` is passed to `plot(kind='pie')`, how would you typically display the names of the slices?\n",
        "    * **Hint:** Using `plt.legend(...)`.\n",
        "24. **Q:** What is the purpose of `plt.axis('equal')` when creating a pie chart?\n",
        "    * **Hint:** Ensures the pie chart is circular.\n",
        "25. **Q:** When using `ax.pie()` directly, what does the first argument represent?\n",
        "    * **Hint:** The array of values for each slice.\n",
        "\n",
        "**Box Plots**\n",
        "\n",
        "26. **Q:** What are the five main statistical dimensions a box plot represents?\n",
        "    * **Hint:** Min, Q1, Median (Q2), Q3, Max.\n",
        "27. **Q:** How is an outlier typically defined in the context of a box plot (in terms of IQR)?\n",
        "    * **Hint:** Values beyond Q1 - 1.5\\*IQR or Q3 + 1.5\\*IQR.\n",
        "28. **Q:** If `df_country_data` has years as index and a single country's immigration as values, what does `df_country_data.plot(kind='box')` show?\n",
        "    * **Hint:** The distribution of that country's yearly immigration numbers.\n",
        "29. **Q:** What does `vert=False` do in a box plot?\n",
        "    * **Hint:** Changes the orientation.\n",
        "30. **Q:** Which Pandas DataFrame method is useful for seeing the numerical values corresponding to a box plot's quartiles, median, etc.?\n",
        "    * **Hint:** `df. ... ()`\n",
        "\n",
        "**Scatter Plots**\n",
        "\n",
        "31. **Q:** What type of relationship between variables are scatter plots primarily used to visualize?\n",
        "    * **Hint:** Correlation or trend between two continuous variables.\n",
        "32. **Q:** In `df.plot(kind='scatter', x='col_A', y='col_B')`, which columns provide the x and y coordinates?\n",
        "    * **Hint:** Specified by the `x` and `y` parameters.\n",
        "33. **Q:** Which NumPy function is used to find the coefficients of a polynomial of best fit for scatter plot data?\n",
        "    * **Hint:** `np.poly...()`\n",
        "34. **Q:** If `fit = np.polyfit(x, y, deg=1)`, what do `fit[0]` and `fit[1]` represent for a linear fit?\n",
        "    * **Hint:** Slope and intercept.\n",
        "35. **Q:** When using `ax.scatter()` directly, what do the first two main arguments represent?\n",
        "    * **Hint:** The x-coordinates and y-coordinates of the points.\n",
        "\n",
        "**Bubble Plots**\n",
        "\n",
        "36. **Q:** A bubble plot is a variation of which other plot type?\n",
        "    * **Hint:** It also shows individual data points.\n",
        "37. **Q:** What does the size of the bubble in a bubble plot represent?\n",
        "    * **Hint:** A third dimension of data (weight or magnitude).\n",
        "38. **Q:** In `df.plot(kind='scatter', ..., s=weights_array)`, what does the `s` parameter control?\n",
        "    * **Hint:** The size of the markers/bubbles.\n",
        "39. **Q:** Why is it often necessary to normalize the data used for bubble sizes?\n",
        "    * **Hint:** To scale them appropriately for visibility on the plot.\n",
        "40. **Q:** If you are plotting two series of bubbles on the same axes using `ax.scatter()` twice, what parameter in the second call ensures it plots on the same figure area as the first?\n",
        "    * **Hint:** `ax=...` (passing the Axes object from the first plot).\n",
        "\n",
        "**Plotting Directly with Matplotlib / Subplotting**\n",
        "\n",
        "41. **Q:** What is the common alias for `matplotlib.pyplot`?\n",
        "    * **Hint:** `import matplotlib.pyplot as ...`\n",
        "42. **Q:** When using the object-oriented (Artist layer) approach with Matplotlib, you typically start by creating a figure and an axes object. What is a common way to do this?\n",
        "    * **Hint:** `fig, ax = plt. ... ()`\n",
        "43. **Q:** If `ax` is a Matplotlib Axes object, how do you set its title?\n",
        "    * **Hint:** `ax.set_ ... ()`\n",
        "44. **Q:** How do you create a 2 rows by 3 columns grid of subplots using `plt.subplots()`?\n",
        "    * **Hint:** `fig, axs = plt.subplots(rows, cols)`\n",
        "45. **Q:** If `axs` is the array of Axes objects from `plt.subplots(2, 2)`, how would you access the subplot in the top-right position?\n",
        "    * **Hint:** `axs[row_index, col_index]`\n",
        "46. **Q:** What does the `sharey=True` parameter in `plt.subplots(1, 2, sharey=True)` achieve?\n",
        "    * **Hint:** The two subplots will have a common y-axis scale.\n",
        "47. **Q:** What is the purpose of `fig.suptitle()`?\n",
        "    * **Hint:** Adds a title to the entire figure, not just a single subplot.\n",
        "48. **Q:** How would you plot a simple line graph directly using `matplotlib.pyplot` given x-values in list `x_data` and y-values in list `y_data`?\n",
        "    * **Hint:** `plt. ... (x_data, y_data)`\n",
        "49. **Q:** To add a legend to a plot created with `ax.plot(..., label='Data1')`, what function do you call on `ax`?\n",
        "    * **Hint:** `ax. ... ()`\n",
        "50. **Q:** What is the primary difference in approach between plotting with `df.plot(kind='...')` and using functions like `plt.bar()` or `ax.hist()`?\n",
        "    * **Hint:** One is a Pandas DataFrame/Series method, the other involves direct calls to Matplotlib library functions.\n",
        "\n",
        "---\n",
        "This concludes the enhancements and the question set. Remember to execute the Python code cells within a Jupyter environment to experience the interactive prompts and see the generated plots."
      ],
      "metadata": {
        "id": "8pwN-PkptQv5"
      }
    }
  ],
  "metadata": {
    "colab": {
      "provenance": []
    },
    "kernelspec": {
      "display_name": "Python 3",
      "name": "python3"
    }
  },
  "nbformat": 4,
  "nbformat_minor": 0
}